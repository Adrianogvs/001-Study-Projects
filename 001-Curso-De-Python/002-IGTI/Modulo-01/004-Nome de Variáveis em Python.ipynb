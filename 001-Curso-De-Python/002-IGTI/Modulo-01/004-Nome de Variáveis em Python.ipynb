{
 "cells": [
  {
   "cell_type": "markdown",
   "id": "9fa97395",
   "metadata": {},
   "source": [
    "# Nome de Variáveis em Python"
   ]
  },
  {
   "cell_type": "markdown",
   "id": "fd6e2015",
   "metadata": {},
   "source": [
    "### Nomes de variáveis\n",
    "\n",
    "Uma variável pode ter um nome curto (como x e y) ou um nome mais descritivo (age, carname, total_volume). Regras para variáveis Python:\n",
    "\n",
    "* Um nome de variável deve começar com uma letra ou o caractere sublinhado\n",
    "* Um nome de variável não pode começar com um número\n",
    "* Um nome de variável pode conter apenas caracteres alfanuméricos e sublinhados (Az, 0-9 e _ )\n",
    "* Os nomes das variáveis ​​diferenciam maiúsculas de minúsculas (idade, idade e IDADE são três variáveis ​​diferentes)"
   ]
  },
  {
   "cell_type": "markdown",
   "id": "75fb710c",
   "metadata": {},
   "source": [
    "### Nomes de variáves legais"
   ]
  },
  {
   "cell_type": "code",
   "execution_count": 1,
   "id": "9193f3fd",
   "metadata": {},
   "outputs": [],
   "source": [
    "# Nomes de variáveis corretas\n",
    "var = 'joão'\n",
    "var_1 = 'João'\n",
    "_var = \"joão\"\n",
    "var1 = \"joão\"\n",
    "var_ = 'joão'\n",
    "var_1 = 'joão'"
   ]
  },
  {
   "cell_type": "markdown",
   "id": "047f6e10",
   "metadata": {},
   "source": [
    "### Nomes de variáveis ilegais"
   ]
  },
  {
   "cell_type": "code",
   "execution_count": 2,
   "id": "b6ea78b6",
   "metadata": {},
   "outputs": [
    {
     "ename": "SyntaxError",
     "evalue": "invalid decimal literal (987357176.py, line 2)",
     "output_type": "error",
     "traceback": [
      "\u001b[1;36m  Input \u001b[1;32mIn [2]\u001b[1;36m\u001b[0m\n\u001b[1;33m    2var = 'joao'\u001b[0m\n\u001b[1;37m    ^\u001b[0m\n\u001b[1;31mSyntaxError\u001b[0m\u001b[1;31m:\u001b[0m invalid decimal literal\n"
     ]
    }
   ],
   "source": [
    "# Nomes de variaveis incorretas\n",
    "2var = 'joao'"
   ]
  },
  {
   "cell_type": "code",
   "execution_count": 3,
   "id": "57c3be8f",
   "metadata": {},
   "outputs": [
    {
     "ename": "SyntaxError",
     "evalue": "invalid syntax (1907911697.py, line 1)",
     "output_type": "error",
     "traceback": [
      "\u001b[1;36m  Input \u001b[1;32mIn [3]\u001b[1;36m\u001b[0m\n\u001b[1;33m    2 var = 'joao'\u001b[0m\n\u001b[1;37m      ^\u001b[0m\n\u001b[1;31mSyntaxError\u001b[0m\u001b[1;31m:\u001b[0m invalid syntax\n"
     ]
    }
   ],
   "source": [
    "2 var = 'joao'"
   ]
  },
  {
   "cell_type": "code",
   "execution_count": 4,
   "id": "e8a6ecf3",
   "metadata": {},
   "outputs": [
    {
     "ename": "SyntaxError",
     "evalue": "cannot assign to expression here. Maybe you meant '==' instead of '='? (3769011295.py, line 1)",
     "output_type": "error",
     "traceback": [
      "\u001b[1;36m  Input \u001b[1;32mIn [4]\u001b[1;36m\u001b[0m\n\u001b[1;33m    var - var = 'joao'\u001b[0m\n\u001b[1;37m    ^\u001b[0m\n\u001b[1;31mSyntaxError\u001b[0m\u001b[1;31m:\u001b[0m cannot assign to expression here. Maybe you meant '==' instead of '='?\n"
     ]
    }
   ],
   "source": [
    "var - var = 'joao'"
   ]
  },
  {
   "cell_type": "code",
   "execution_count": 5,
   "id": "f3038ca6",
   "metadata": {},
   "outputs": [
    {
     "ename": "SyntaxError",
     "evalue": "invalid syntax (770156775.py, line 1)",
     "output_type": "error",
     "traceback": [
      "\u001b[1;36m  Input \u001b[1;32mIn [5]\u001b[1;36m\u001b[0m\n\u001b[1;33m    var var = 'joao'\u001b[0m\n\u001b[1;37m        ^\u001b[0m\n\u001b[1;31mSyntaxError\u001b[0m\u001b[1;31m:\u001b[0m invalid syntax\n"
     ]
    }
   ],
   "source": [
    "var var = 'joao'"
   ]
  },
  {
   "cell_type": "markdown",
   "id": "94cf5ea6",
   "metadata": {},
   "source": [
    "# FIM"
   ]
  }
 ],
 "metadata": {
  "kernelspec": {
   "display_name": "Python 3.10.2 64-bit",
   "language": "python",
   "name": "python3102jvsc74a57bd03bb03df91ec1981933db38e9cd509750fbcc8736096f2f96108c21544a6fd7c7"
  },
  "language_info": {
   "codemirror_mode": {
    "name": "ipython",
    "version": 3
   },
   "file_extension": ".py",
   "mimetype": "text/x-python",
   "name": "python",
   "nbconvert_exporter": "python",
   "pygments_lexer": "ipython3",
   "version": "3.10.2"
  }
 },
 "nbformat": 4,
 "nbformat_minor": 5
}
