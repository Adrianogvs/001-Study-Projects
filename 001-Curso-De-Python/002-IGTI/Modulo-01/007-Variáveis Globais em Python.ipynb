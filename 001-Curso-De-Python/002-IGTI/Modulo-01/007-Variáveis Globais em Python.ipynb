{
 "cells": [
  {
   "cell_type": "markdown",
   "id": "835aba68",
   "metadata": {},
   "source": [
    "# Variáveis Globais em Python"
   ]
  },
  {
   "cell_type": "markdown",
   "id": "9d6b8c21",
   "metadata": {},
   "source": [
    "### Variáveis globais\n",
    "\n",
    "Variáveis criadas fora de uma função (como em todos os exemplos anteriores) são conhecidas como variáveis globais.\n",
    "\n",
    "As variáveis globais podem ser usadas por todos, tanto dentro das funções quanto fora delas.\n",
    "\n",
    "Exmplo:"
   ]
  },
  {
   "cell_type": "code",
   "execution_count": 4,
   "id": "d990a02c",
   "metadata": {},
   "outputs": [
    {
     "name": "stdout",
     "output_type": "stream",
     "text": [
      "Python é impressionante\n"
     ]
    }
   ],
   "source": [
    "# Criando uma variável fora de uma função e usando ela dentro da função\n",
    "\n",
    "x = 'impressionante'\n",
    "\n",
    "def minhafuncao():\n",
    "    print('Python é ' + x)\n",
    "\n",
    "minhafuncao()"
   ]
  },
  {
   "cell_type": "markdown",
   "id": "09073124",
   "metadata": {},
   "source": [
    "### Se você criar uma variável com o mesmo nome dentro de uma função, essa variável será local e só poderá ser usada dentro da função. A variável global com o mesmo nome permanecerá como estava, global e com o valor original.\n",
    "\n",
    "Exemplo:"
   ]
  },
  {
   "cell_type": "code",
   "execution_count": 6,
   "id": "e1437e27",
   "metadata": {},
   "outputs": [
    {
     "name": "stdout",
     "output_type": "stream",
     "text": [
      "Python é fantástico\n",
      "Python é impressionante\n"
     ]
    }
   ],
   "source": [
    "# Criando uma variável dentro de uma função, com o mesmo nome da variável global\n",
    "\n",
    "x = \"impressionante\"\n",
    "\n",
    "def minhafunção():\n",
    "  x = \"fantástico\"\n",
    "  print(\"Python é \" + x)\n",
    "\n",
    "minhafunção()\n",
    "\n",
    "print(\"Python é \" + x)"
   ]
  },
  {
   "cell_type": "markdown",
   "id": "63e8789a",
   "metadata": {},
   "source": [
    "### A palavra-chave global\n",
    "\n",
    "Normalmente, quando você cria uma variável dentro de uma função, essa variável é local e só pode ser usada dentro dessa função.\n",
    "\n",
    "Para criar uma variável global dentro de uma função, você pode usar a palavra-chave global.\n",
    "\n",
    "Exemplo:"
   ]
  },
  {
   "cell_type": "code",
   "execution_count": 7,
   "id": "4023d21e",
   "metadata": {},
   "outputs": [
    {
     "name": "stdout",
     "output_type": "stream",
     "text": [
      "Python é fantástico\n"
     ]
    }
   ],
   "source": [
    "# Se você usar a palavra- globalchave, a variável pertence ao escopo global\n",
    "\n",
    "def minhafunção():\n",
    "    global x\n",
    "    x = 'fantástico'\n",
    "    \n",
    "minhafunção()\n",
    "\n",
    "print('Python é ' + x)"
   ]
  },
  {
   "cell_type": "markdown",
   "id": "501144ea",
   "metadata": {},
   "source": [
    "### Além disso, use a palavra global chave se quiser alterar uma variável global dentro de uma função.\n",
    "\n",
    "Exemplo:"
   ]
  },
  {
   "cell_type": "code",
   "execution_count": 9,
   "id": "2b9814b0",
   "metadata": {},
   "outputs": [
    {
     "name": "stdout",
     "output_type": "stream",
     "text": [
      "Python é Fantastico\n"
     ]
    }
   ],
   "source": [
    "# Para alterar o valor de uma variável global dentro de uma função, consulte a variável usando a global palavra-chave:\n",
    "\n",
    "x = \"Impressionante\"\n",
    "\n",
    "def minhafunção():\n",
    "    global x\n",
    "    x = \"Fantastico\"\n",
    "\n",
    "minhafunção()\n",
    "\n",
    "print(\"Python é \" + x)"
   ]
  },
  {
   "cell_type": "markdown",
   "id": "412f1102",
   "metadata": {},
   "source": [
    "# FIM"
   ]
  }
 ],
 "metadata": {
  "kernelspec": {
   "display_name": "Python 3.10.2 64-bit",
   "language": "python",
   "name": "python3102jvsc74a57bd03bb03df91ec1981933db38e9cd509750fbcc8736096f2f96108c21544a6fd7c7"
  },
  "language_info": {
   "codemirror_mode": {
    "name": "ipython",
    "version": 3
   },
   "file_extension": ".py",
   "mimetype": "text/x-python",
   "name": "python",
   "nbconvert_exporter": "python",
   "pygments_lexer": "ipython3",
   "version": "3.10.2"
  }
 },
 "nbformat": 4,
 "nbformat_minor": 5
}
