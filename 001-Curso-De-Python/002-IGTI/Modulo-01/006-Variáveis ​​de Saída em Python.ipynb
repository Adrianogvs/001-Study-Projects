{
 "cells": [
  {
   "cell_type": "markdown",
   "id": "26282102",
   "metadata": {},
   "source": [
    "# Variáveis de Saída em Python"
   ]
  },
  {
   "cell_type": "markdown",
   "id": "b4d2cc50",
   "metadata": {},
   "source": [
    "### Variáveis de saída\n",
    "A instrução Python printé frequentemente usada para gerar variáveis.\n",
    "\n",
    "Para combinar texto e uma variável, o Python usa o +caractere:\n",
    "\n",
    "\n",
    "Exemplo:"
   ]
  },
  {
   "cell_type": "code",
   "execution_count": 1,
   "id": "ff875050",
   "metadata": {},
   "outputs": [
    {
     "name": "stdout",
     "output_type": "stream",
     "text": [
      "Python é impressionante\n"
     ]
    }
   ],
   "source": [
    "# Criando uma variávek e contatenando o valor dela em um print\n",
    "x = 'impressionante'\n",
    "print('Python é ' + x)"
   ]
  },
  {
   "cell_type": "markdown",
   "id": "bd7ee39e",
   "metadata": {},
   "source": [
    "### Você também pode usar o sinal de + para concatenar caractere e adicionar uma variável a outra variável.\n",
    "\n",
    "Exemplo:"
   ]
  },
  {
   "cell_type": "code",
   "execution_count": 3,
   "id": "2f9f442c",
   "metadata": {},
   "outputs": [
    {
     "name": "stdout",
     "output_type": "stream",
     "text": [
      "Python é Impressionante\n"
     ]
    }
   ],
   "source": [
    "# Criando tres variáveis e concatenando os valores dela em uma única variável do tipo string\n",
    "x = 'Python é '\n",
    "y = 'Impressionante'\n",
    "z = x + y\n",
    "\n",
    "print(z)"
   ]
  },
  {
   "cell_type": "markdown",
   "id": "2e012beb",
   "metadata": {},
   "source": [
    "### O mesmo é validso para números, o sinal de + funciona para caractenar um operador matemático com outro:\n",
    "\n",
    "Exemplo:"
   ]
  },
  {
   "cell_type": "code",
   "execution_count": 5,
   "id": "04587594",
   "metadata": {},
   "outputs": [
    {
     "name": "stdout",
     "output_type": "stream",
     "text": [
      "11\n"
     ]
    }
   ],
   "source": [
    "# Criando tres variáveis e concatenando os valores dela em uma única variável do tipo inteiro\n",
    "x = 5\n",
    "y = 6\n",
    "z = y + x\n",
    "\n",
    "print(z)"
   ]
  },
  {
   "cell_type": "markdown",
   "id": "105b2e01",
   "metadata": {},
   "source": [
    "### Se você tentar combinar uma string e um número, o Python lhe dará um erro.\n",
    "\n",
    "Veja:"
   ]
  },
  {
   "cell_type": "code",
   "execution_count": 6,
   "id": "5ef3a964",
   "metadata": {},
   "outputs": [
    {
     "ename": "TypeError",
     "evalue": "unsupported operand type(s) for +: 'int' and 'str'",
     "output_type": "error",
     "traceback": [
      "\u001b[1;31m---------------------------------------------------------------------------\u001b[0m",
      "\u001b[1;31mTypeError\u001b[0m                                 Traceback (most recent call last)",
      "Input \u001b[1;32mIn [6]\u001b[0m, in \u001b[0;36m<module>\u001b[1;34m\u001b[0m\n\u001b[0;32m      1\u001b[0m x \u001b[38;5;241m=\u001b[39m \u001b[38;5;241m5\u001b[39m\n\u001b[0;32m      2\u001b[0m y \u001b[38;5;241m=\u001b[39m \u001b[38;5;124m'\u001b[39m\u001b[38;5;124mjoao\u001b[39m\u001b[38;5;124m'\u001b[39m\n\u001b[1;32m----> 3\u001b[0m \u001b[38;5;28mprint\u001b[39m(\u001b[43mx\u001b[49m\u001b[43m \u001b[49m\u001b[38;5;241;43m+\u001b[39;49m\u001b[43m \u001b[49m\u001b[43my\u001b[49m)\n",
      "\u001b[1;31mTypeError\u001b[0m: unsupported operand type(s) for +: 'int' and 'str'"
     ]
    }
   ],
   "source": [
    "# Criando duas variaveis, sendo um do tipo string e outra do tipo int, fazendo a soma no qual irá retornar erro, pois não se soma string com inteiro\n",
    "x = 5\n",
    "y = 'joao'\n",
    "print(x + y)"
   ]
  },
  {
   "cell_type": "markdown",
   "id": "4cbf96b8",
   "metadata": {},
   "source": [
    "# FIM"
   ]
  }
 ],
 "metadata": {
  "kernelspec": {
   "display_name": "Python 3.10.2 64-bit",
   "language": "python",
   "name": "python3102jvsc74a57bd03bb03df91ec1981933db38e9cd509750fbcc8736096f2f96108c21544a6fd7c7"
  },
  "language_info": {
   "codemirror_mode": {
    "name": "ipython",
    "version": 3
   },
   "file_extension": ".py",
   "mimetype": "text/x-python",
   "name": "python",
   "nbconvert_exporter": "python",
   "pygments_lexer": "ipython3",
   "version": "3.10.2"
  }
 },
 "nbformat": 4,
 "nbformat_minor": 5
}
