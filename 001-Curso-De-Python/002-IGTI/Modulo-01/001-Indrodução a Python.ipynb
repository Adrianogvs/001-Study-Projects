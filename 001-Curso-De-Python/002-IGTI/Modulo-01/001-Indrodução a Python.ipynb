{
 "cells": [
  {
   "cell_type": "markdown",
   "id": "0a2a1a93",
   "metadata": {},
   "source": [
    "# Tutotial de Python"
   ]
  },
  {
   "cell_type": "markdown",
   "id": "70b9d79e",
   "metadata": {},
   "source": [
    "### Primeiros passos com Python"
   ]
  },
  {
   "cell_type": "markdown",
   "id": "8eba0291",
   "metadata": {},
   "source": [
    "Python é uma linguagem de programação popular.\n",
    "Python pode ser usado em um servidor para criar aplicativos da web, fazer jogos, analisar dados e muito mais."
   ]
  },
  {
   "cell_type": "code",
   "execution_count": 1,
   "id": "cd33b0a1",
   "metadata": {},
   "outputs": [
    {
     "name": "stdout",
     "output_type": "stream",
     "text": [
      "Hello World!\n"
     ]
    }
   ],
   "source": [
    "# Podmeos editar o código e visualizar os resultados. Exemplo:\n",
    "print(\"Hello World!\")"
   ]
  },
  {
   "cell_type": "markdown",
   "id": "c03674ae",
   "metadata": {},
   "source": [
    "### Recuo em python\n",
    "\n",
    "O recuo refere-se aos espaços no inicio de uma linha de código.\n",
    "Onde em outras linguagens de programação o recuo no código é apenas para legibilidade, o recuo em Python é muito importante.\n",
    "Python usa recuo para indicar um bloco de código.\n",
    "\n",
    "Exemplo:"
   ]
  },
  {
   "cell_type": "code",
   "execution_count": 2,
   "id": "6c7b8c97",
   "metadata": {},
   "outputs": [
    {
     "name": "stdout",
     "output_type": "stream",
     "text": [
      "Sim o número 5 é maior que o número 2.\n"
     ]
    }
   ],
   "source": [
    "# Código Python com recuo.\n",
    "if 5 > 2:\n",
    "    print(\"Sim o número 5 é maior que o número 2.\")"
   ]
  },
  {
   "cell_type": "markdown",
   "id": "bc4ef4e3",
   "metadata": {},
   "source": [
    "Python lhe retornará um erro se pular o recuo.\n",
    "\n",
    "Exemplo:"
   ]
  },
  {
   "cell_type": "code",
   "execution_count": 3,
   "id": "f263c1f0",
   "metadata": {},
   "outputs": [
    {
     "ename": "IndentationError",
     "evalue": "expected an indented block after 'if' statement on line 2 (2377845851.py, line 3)",
     "output_type": "error",
     "traceback": [
      "\u001b[1;36m  Input \u001b[1;32mIn [3]\u001b[1;36m\u001b[0m\n\u001b[1;33m    print(\"Sim o número 5 é maior que o número 2.\")\u001b[0m\n\u001b[1;37m    ^\u001b[0m\n\u001b[1;31mIndentationError\u001b[0m\u001b[1;31m:\u001b[0m expected an indented block after 'if' statement on line 2\n"
     ]
    }
   ],
   "source": [
    "# Código Python sem recuo, apresenta erro.\n",
    "if 5 > 2:\n",
    "print(\"Sim o número 5 é maior que o número 2.\")"
   ]
  },
  {
   "cell_type": "markdown",
   "id": "fcc7d788",
   "metadata": {},
   "source": [
    "##### O numero de espaços recomendado pela documentação Python é de 4 espaços utilizando a tecla barra de espaço ou um tab.\n",
    "##### Recomenda-se seguir o metodo utilizado no incio da programação é o fim. \n",
    "\n",
    "Exemplo:"
   ]
  },
  {
   "cell_type": "code",
   "execution_count": 4,
   "id": "e0d97d0f",
   "metadata": {},
   "outputs": [
    {
     "name": "stdout",
     "output_type": "stream",
     "text": [
      "maça\n",
      "banana\n"
     ]
    }
   ],
   "source": [
    "frutas = [\"maça\", \"banana\", \"pêra\"] # Lista de frutas\n",
    "for x in frutas:    # Enquanto 'X' conter os elementos da lista 'frutas', realize o proximo passo;\n",
    "  print(x)          # Imprime os elementos da lista;\n",
    "  if x == \"banana\": # Quando chegar o elemento \"banana\", a condição if para e sai do loop devido a proxima condição 'break';\n",
    "    break           # Fução 'break' parar de executar, ou seja, sair da do loop quando encontrado uma condição que for True no função anterior;"
   ]
  },
  {
   "cell_type": "markdown",
   "id": "948b9524",
   "metadata": {},
   "source": [
    "# Fim"
   ]
  }
 ],
 "metadata": {
  "kernelspec": {
   "display_name": "Python 3.10.2 64-bit",
   "language": "python",
   "name": "python3102jvsc74a57bd03bb03df91ec1981933db38e9cd509750fbcc8736096f2f96108c21544a6fd7c7"
  },
  "language_info": {
   "codemirror_mode": {
    "name": "ipython",
    "version": 3
   },
   "file_extension": ".py",
   "mimetype": "text/x-python",
   "name": "python",
   "nbconvert_exporter": "python",
   "pygments_lexer": "ipython3",
   "version": "3.10.2"
  }
 },
 "nbformat": 4,
 "nbformat_minor": 5
}
