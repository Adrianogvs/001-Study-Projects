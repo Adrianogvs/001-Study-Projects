{
 "cells": [
  {
   "cell_type": "markdown",
   "id": "4118dc43",
   "metadata": {},
   "source": [
    "# Atribuindo Vários Valores à Valiaveis em Python"
   ]
  },
  {
   "cell_type": "markdown",
   "id": "bf24d26e",
   "metadata": {},
   "source": [
    "### Muitos valores para múltiplas variáveis\n",
    "\n",
    "Python permite a atribuição de vaalores a variaveis em uma linha.\n",
    "\n",
    "Exemplo:"
   ]
  },
  {
   "cell_type": "code",
   "execution_count": 1,
   "id": "cb4af8bf",
   "metadata": {},
   "outputs": [],
   "source": [
    "#Criando tres variáveis e fazendo cada uma delas receberem uma string\n",
    "x, y, z = \"laranja\", \"Banana\", \"Morango\""
   ]
  },
  {
   "cell_type": "code",
   "execution_count": 2,
   "id": "2ac76c9c",
   "metadata": {},
   "outputs": [
    {
     "name": "stdout",
     "output_type": "stream",
     "text": [
      "laranja Banana Morango\n"
     ]
    }
   ],
   "source": [
    "# Printando o resultado das variáveis\n",
    "print(x, y, z)"
   ]
  },
  {
   "cell_type": "markdown",
   "id": "0dbd2d37",
   "metadata": {},
   "source": [
    "##### Observação: \n",
    "Certifique-se de que o número de variáveis ​​corresponda ao número de valores, caso contrário você receberá um erro."
   ]
  },
  {
   "cell_type": "markdown",
   "id": "1fa76f97",
   "metadata": {},
   "source": [
    "### Um valor para várias variáveis\n",
    "\n",
    "E você pode atribuir o mesmo valor a várias variáveis ​​em uma linha:\n",
    "\n",
    "Exemplo:"
   ]
  },
  {
   "cell_type": "code",
   "execution_count": 3,
   "id": "88b865a4",
   "metadata": {},
   "outputs": [],
   "source": [
    "# Fazendo uma variável receber o valor da outra, ou seja, todas as tres variaveis terão o mesmo valor\n",
    "x = y = z = 'Laranja'"
   ]
  },
  {
   "cell_type": "code",
   "execution_count": 4,
   "id": "20522c24",
   "metadata": {},
   "outputs": [
    {
     "name": "stdout",
     "output_type": "stream",
     "text": [
      "Laranja\n",
      "Laranja\n",
      "Laranja\n"
     ]
    }
   ],
   "source": [
    "print(x)\n",
    "print(y)\n",
    "print(z)"
   ]
  },
  {
   "cell_type": "markdown",
   "id": "0a7b3735",
   "metadata": {},
   "source": [
    "### Descompactar uma coleção de uma lista\n",
    "\n",
    "Se você tem uma coleção de valores em uma lista, tupla etc. Python permite que você extraia os valores em variáveis. Isso é chamado de descompactação .\n",
    "\n",
    "Exemplo:"
   ]
  },
  {
   "cell_type": "code",
   "execution_count": 5,
   "id": "ae6c6707",
   "metadata": {},
   "outputs": [],
   "source": [
    "# Criando uma lista com tres elementos e fazendo cada variável receber uma string\n",
    "frutas = ['maça', 'banana', 'morango']\n",
    "x, y, z = frutas"
   ]
  },
  {
   "cell_type": "code",
   "execution_count": 6,
   "id": "734dae58",
   "metadata": {},
   "outputs": [
    {
     "name": "stdout",
     "output_type": "stream",
     "text": [
      "maça\n",
      "banana\n",
      "morango\n"
     ]
    }
   ],
   "source": [
    "print(x)\n",
    "print(y)\n",
    "print(z)"
   ]
  },
  {
   "cell_type": "markdown",
   "id": "e6323b42",
   "metadata": {},
   "source": [
    "# FIM"
   ]
  }
 ],
 "metadata": {
  "kernelspec": {
   "display_name": "Python 3.10.2 64-bit",
   "language": "python",
   "name": "python3102jvsc74a57bd03bb03df91ec1981933db38e9cd509750fbcc8736096f2f96108c21544a6fd7c7"
  },
  "language_info": {
   "codemirror_mode": {
    "name": "ipython",
    "version": 3
   },
   "file_extension": ".py",
   "mimetype": "text/x-python",
   "name": "python",
   "nbconvert_exporter": "python",
   "pygments_lexer": "ipython3",
   "version": "3.10.2"
  }
 },
 "nbformat": 4,
 "nbformat_minor": 5
}
