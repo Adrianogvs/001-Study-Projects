{
 "cells": [
  {
   "cell_type": "markdown",
   "id": "431cf149",
   "metadata": {},
   "source": [
    "# Desafio do Módulo 1"
   ]
  },
  {
   "cell_type": "markdown",
   "id": "58137542",
   "metadata": {},
   "source": [
    "## Instruções do teste"
   ]
  },
  {
   "cell_type": "markdown",
   "id": "5c30e5bf",
   "metadata": {},
   "source": [
    "### 1. Instruções para realizar o desafio\n",
    "\n",
    "Consulte a data de entrega no teste e em seu calendário.\n",
    "\n",
    "Reserve um tempo para realizar a atividade e leia as orientações e enunciados com atenção. Em caso de dúvidas, utilize o \"Fórum de dúvidas do Desafio do Módulo 1\".\n",
    "\n",
    "Para iniciar o Desafio, clique em \"Fazer teste\". Você tem somente uma tentativa e não há limite de tempo definido para realizá-la. Caso você precise interromper a atividade, apenas deixe a página e, ao retornar, clique em \"Retomar teste\".\n",
    "\n",
    "Lembre-se de conferir tosas as questões antes de enviar a atividade, e clique em \"Enviar teste\" somente quando você tiver terminado.\n",
    "\n",
    "Uma vez terminado o prazo de entrega, a plataforma enviará as tentativas não finalizadas automaticamente. Por isso, fique atento ao prazo final.\n",
    "\n",
    "Novas tentativas só serão concedidas perante a apresentação de atestado médico."
   ]
  },
  {
   "cell_type": "code",
   "execution_count": 5,
   "id": "4917b255",
   "metadata": {},
   "outputs": [],
   "source": [
    "frase = [' Alô, alô, marciano','Aqui quem fala é da Terra',\n",
    "         'Pra variar, estamos em guerra','Você não imagina a loucura', \n",
    "         'O ser humano tá na maior fissura, porque','Tá cada vez mais down the high society ']"
   ]
  },
  {
   "cell_type": "code",
   "execution_count": 6,
   "id": "125378bb",
   "metadata": {
    "scrolled": false
   },
   "outputs": [
    {
     "data": {
      "text/plain": [
       "[' Alô, alô, marciano',\n",
       " 'Aqui quem fala é da Terra',\n",
       " 'Pra variar, estamos em guerra',\n",
       " 'Você não imagina a loucura',\n",
       " 'O ser humano tá na maior fissura, porque',\n",
       " 'Tá cada vez mais down the high society ']"
      ]
     },
     "execution_count": 6,
     "metadata": {},
     "output_type": "execute_result"
    }
   ],
   "source": [
    "frase"
   ]
  },
  {
   "cell_type": "code",
   "execution_count": 17,
   "id": "07e2bca8",
   "metadata": {},
   "outputs": [
    {
     "name": "stdout",
     "output_type": "stream",
     "text": [
      "{'frase_1': ' Alô, alô, marciano', 'frase_2': 'Aqui quem fala é da Terra', 'frase_3': 'Pra variar, estamos em guerra', 'frase_4': 'Você não imagina a loucura', 'frase_5': 'O ser humano tá na maior fissura, porque', 'frase_6': 'Tá cada vez mais down the high society '}\n",
      "None\n"
     ]
    }
   ],
   "source": [
    "dicionario = {}                                 # Dicionário vazio\n",
    "\n",
    "def criar_dicionario(x):                        # Não entendi\n",
    "    for i in range(len(x)):                     # Não entendi\n",
    "        dicionario[f'frase_{i+1}'] = x[i][:]    # Não entendi\n",
    "    \n",
    "    print(dicionario)                           # imprime o resultado do código acima\n",
    "\n",
    "print(criar_dicionario(frase))                 # Cria o dicionario "
   ]
  },
  {
   "cell_type": "markdown",
   "id": "4a54b00e",
   "metadata": {},
   "source": [
    "### 1. Qual o índice da frase ‘Aqui quem fala é da Terra’?"
   ]
  },
  {
   "cell_type": "code",
   "execution_count": 41,
   "id": "7e000d1d",
   "metadata": {},
   "outputs": [
    {
     "ename": "KeyError",
     "evalue": "1",
     "output_type": "error",
     "traceback": [
      "\u001b[1;31m---------------------------------------------------------------------------\u001b[0m",
      "\u001b[1;31mKeyError\u001b[0m                                  Traceback (most recent call last)",
      "\u001b[1;32mC:\\Users\\ADMINI~1\\AppData\\Local\\Temp/ipykernel_21964/1858409039.py\u001b[0m in \u001b[0;36m<module>\u001b[1;34m\u001b[0m\n\u001b[1;32m----> 1\u001b[1;33m \u001b[0mdicionario\u001b[0m\u001b[1;33m[\u001b[0m\u001b[1;36m1\u001b[0m\u001b[1;33m]\u001b[0m\u001b[1;33m\u001b[0m\u001b[1;33m\u001b[0m\u001b[0m\n\u001b[0m",
      "\u001b[1;31mKeyError\u001b[0m: 1"
     ]
    }
   ],
   "source": [
    "dicionario[1]"
   ]
  },
  {
   "cell_type": "markdown",
   "id": "6bcd5bb4",
   "metadata": {},
   "source": [
    "### 2. Qual o índice da frase “Tá cada vez mais down the high society”?"
   ]
  },
  {
   "cell_type": "code",
   "execution_count": null,
   "id": "f28200bb",
   "metadata": {},
   "outputs": [],
   "source": []
  }
 ],
 "metadata": {
  "interpreter": {
   "hash": "3bb03df91ec1981933db38e9cd509750fbcc8736096f2f96108c21544a6fd7c7"
  },
  "kernelspec": {
   "display_name": "Python 3 (ipykernel)",
   "language": "python",
   "name": "python3"
  },
  "language_info": {
   "codemirror_mode": {
    "name": "ipython",
    "version": 3
   },
   "file_extension": ".py",
   "mimetype": "text/x-python",
   "name": "python",
   "nbconvert_exporter": "python",
   "pygments_lexer": "ipython3",
   "version": "3.9.7"
  }
 },
 "nbformat": 4,
 "nbformat_minor": 5
}
