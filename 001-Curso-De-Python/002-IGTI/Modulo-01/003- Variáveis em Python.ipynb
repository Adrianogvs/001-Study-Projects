{
 "cells": [
  {
   "cell_type": "markdown",
   "id": "a9cbeb1f",
   "metadata": {},
   "source": [
    "# Variáveis em Python"
   ]
  },
  {
   "cell_type": "markdown",
   "id": "9282f562",
   "metadata": {},
   "source": [
    "### Variáveis em Python são conteineres para armazenar valores de dados.<p>\n",
    "Python não tem comando para declarar uma variável.\n",
    "Uma variável é criada no momento em que você atribui um valor a ela.\n",
    "\n",
    "Exemplo:"
   ]
  },
  {
   "cell_type": "code",
   "execution_count": 1,
   "id": "33711c55",
   "metadata": {},
   "outputs": [
    {
     "name": "stdout",
     "output_type": "stream",
     "text": [
      "5\n",
      "João\n"
     ]
    }
   ],
   "source": [
    "# Criado duas variaveis 'x' e 'y', e atribuindo valores a elas\n",
    "x = 5\n",
    "y = 'João'\n",
    "print(x)\n",
    "print(y)"
   ]
  },
  {
   "cell_type": "markdown",
   "id": "0b933e0d",
   "metadata": {},
   "source": [
    "### As variáveis não precisam ser declaradas com nunhum tipo especifico e podem até mudar de tipo depois de terem sido definidas.\n",
    "\n",
    "Exemplo:"
   ]
  },
  {
   "cell_type": "code",
   "execution_count": 2,
   "id": "29dddea4",
   "metadata": {},
   "outputs": [
    {
     "name": "stdout",
     "output_type": "stream",
     "text": [
      "João\n"
     ]
    }
   ],
   "source": [
    "# Criando variáveis e alterando seu tipo especifico ao atribuir outro valor para a mesma variável\n",
    "x = 5      # x é do tipo inteiro (int)\n",
    "type(x)    # Comando type, é utilizado para verificar o tipo de váriável\n",
    "x = 'João' # x passou a ser do tipo string (str)\n",
    "type(x)    # Comando type, é utilizado para verificar o tipo de váriável\n",
    "print(x)   # Irá imprimir o valor de 'João'"
   ]
  },
  {
   "cell_type": "markdown",
   "id": "7fc952c2",
   "metadata": {},
   "source": [
    "### Convertendo o valor da variável \n",
    "\n",
    "Exemplo:"
   ]
  },
  {
   "cell_type": "code",
   "execution_count": 3,
   "id": "eba20e62",
   "metadata": {},
   "outputs": [
    {
     "name": "stdout",
     "output_type": "stream",
     "text": [
      "<class 'str'> ---- 3\n",
      "<class 'int'> ---- 3\n",
      "<class 'float'> -- 3.0\n"
     ]
    }
   ],
   "source": [
    "# Criando variáveis e atribuindo o tipo de dados a elas\n",
    "x = str(3)    # x irá apresentar '3'\n",
    "y = int(3)    # x irá apresentar 3    \n",
    "z = float(3)  # x irá apresentar 3.0\n",
    "\n",
    "print(type(x),'----', x) # Imprime primeiro o tipo de dado e depois o valor do x.\n",
    "print(type(y),'----', y) # Imprime primeiro o tipo de dado e depois o valor do y.\n",
    "print(type(z),'--', z)   # Imprime primeiro o tipo de dado e depois o valor do z."
   ]
  },
  {
   "cell_type": "markdown",
   "id": "8e6e97bd",
   "metadata": {},
   "source": [
    "### Obter o tipo da variável\n",
    "\n",
    "Conforme informado anteriormente, para obter o tipo de dado de uma variável, utiliza-se a função 'type', esta função retorna o tipo de variável.\n",
    "\n",
    "É muito importante saber o tipo de variável, pois em um código pode-se ocorrer algum erro devido a definição, então é recomendado verificar antes se o tipo de variável esta de acordo com o que irá desenvolver.\n",
    "\n",
    "Exemplo:"
   ]
  },
  {
   "cell_type": "code",
   "execution_count": 4,
   "id": "3c54f429",
   "metadata": {},
   "outputs": [
    {
     "data": {
      "text/plain": [
       "float"
      ]
     },
     "execution_count": 4,
     "metadata": {},
     "output_type": "execute_result"
    }
   ],
   "source": [
    "# Criando uma variável e verificando o tipo\n",
    "x = 3.0\n",
    "type(x)"
   ]
  },
  {
   "cell_type": "code",
   "execution_count": 5,
   "id": "713a5033",
   "metadata": {},
   "outputs": [
    {
     "data": {
      "text/plain": [
       "str"
      ]
     },
     "execution_count": 5,
     "metadata": {},
     "output_type": "execute_result"
    }
   ],
   "source": [
    "y = 'Variavel'\n",
    "type(y)"
   ]
  },
  {
   "cell_type": "code",
   "execution_count": 6,
   "id": "853ac61d",
   "metadata": {},
   "outputs": [
    {
     "data": {
      "text/plain": [
       "int"
      ]
     },
     "execution_count": 6,
     "metadata": {},
     "output_type": "execute_result"
    }
   ],
   "source": [
    "z = 3\n",
    "type(z)"
   ]
  },
  {
   "cell_type": "markdown",
   "id": "b8185887",
   "metadata": {},
   "source": [
    "### Citações simples ou duplas em variáveis\n",
    "\n",
    "Variáveis do tipo string podem ser declaradas usando aspas simples ou duplas.\n",
    "\n",
    "Exemplo:"
   ]
  },
  {
   "cell_type": "code",
   "execution_count": 7,
   "id": "f9dded98",
   "metadata": {},
   "outputs": [],
   "source": [
    "# Criando variáveis do tipo strings e declarando-as com aspas duplas e simples\n",
    "x = \"Teste\"\n",
    "y = 'teste2'"
   ]
  },
  {
   "cell_type": "code",
   "execution_count": 8,
   "id": "91045302",
   "metadata": {},
   "outputs": [
    {
     "name": "stdout",
     "output_type": "stream",
     "text": [
      "Teste\n"
     ]
    }
   ],
   "source": [
    "print(x)"
   ]
  },
  {
   "cell_type": "code",
   "execution_count": 9,
   "id": "3123f4b6",
   "metadata": {},
   "outputs": [
    {
     "name": "stdout",
     "output_type": "stream",
     "text": [
      "teste2\n"
     ]
    }
   ],
   "source": [
    "print(y)"
   ]
  },
  {
   "cell_type": "markdown",
   "id": "ca8047ec",
   "metadata": {},
   "source": [
    "### Letras 'maiusculas' e 'minusculas'\n",
    "\n",
    "Os nomes de variáveis diferem de maiusculas e minusculas, ou seja, são case sensitive.\n",
    "\n",
    "Exemplo:"
   ]
  },
  {
   "cell_type": "code",
   "execution_count": 10,
   "id": "a16d17e1",
   "metadata": {},
   "outputs": [],
   "source": [
    "# Criando duas variáveis com a mesma letra, sendo uma com letra maisucla e outra com letra minuscula\n",
    "a = 5\n",
    "A = 'mouse'"
   ]
  },
  {
   "cell_type": "code",
   "execution_count": 11,
   "id": "1a69adf3",
   "metadata": {},
   "outputs": [
    {
     "name": "stdout",
     "output_type": "stream",
     "text": [
      "5\n"
     ]
    }
   ],
   "source": [
    "print(a)"
   ]
  },
  {
   "cell_type": "code",
   "execution_count": 12,
   "id": "587ff1ec",
   "metadata": {
    "scrolled": true
   },
   "outputs": [
    {
     "name": "stdout",
     "output_type": "stream",
     "text": [
      "mouse\n"
     ]
    }
   ],
   "source": [
    "print(A)"
   ]
  },
  {
   "cell_type": "markdown",
   "id": "eba3f9f0",
   "metadata": {},
   "source": [
    "# Fim"
   ]
  }
 ],
 "metadata": {
  "kernelspec": {
   "display_name": "Python 3.10.2 64-bit",
   "language": "python",
   "name": "python3102jvsc74a57bd03bb03df91ec1981933db38e9cd509750fbcc8736096f2f96108c21544a6fd7c7"
  },
  "language_info": {
   "codemirror_mode": {
    "name": "ipython",
    "version": 3
   },
   "file_extension": ".py",
   "mimetype": "text/x-python",
   "name": "python",
   "nbconvert_exporter": "python",
   "pygments_lexer": "ipython3",
   "version": "3.10.2"
  }
 },
 "nbformat": 4,
 "nbformat_minor": 5
}
