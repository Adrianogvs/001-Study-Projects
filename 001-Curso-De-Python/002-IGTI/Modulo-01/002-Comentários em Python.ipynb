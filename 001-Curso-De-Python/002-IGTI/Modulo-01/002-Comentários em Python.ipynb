{
 "cells": [
  {
   "cell_type": "markdown",
   "id": "4ca6f612",
   "metadata": {},
   "source": [
    "# Comentário em Python"
   ]
  },
  {
   "cell_type": "markdown",
   "id": "d5cf19c0",
   "metadata": {},
   "source": [
    "### Os comentários em Python podem ser utilizados para:\n",
    "1. Explicar o código Python;\n",
    "2. Tornar o código mais legível;\n",
    "3. Impedir a execução ou testar o código.\n",
    "\n",
    "Para comentar utiliza-se o simbolo de '#' hashtag"
   ]
  },
  {
   "cell_type": "markdown",
   "id": "530d5c34",
   "metadata": {},
   "source": [
    "### Como criar um comentário em Python\n",
    "\n",
    "Exemplo:"
   ]
  },
  {
   "cell_type": "code",
   "execution_count": 1,
   "id": "e7fe0848",
   "metadata": {},
   "outputs": [
    {
     "name": "stdout",
     "output_type": "stream",
     "text": [
      "Hello World!\n"
     ]
    }
   ],
   "source": [
    "# Este é um comentário em Python\n",
    "print(\"Hello World!\")"
   ]
  },
  {
   "cell_type": "markdown",
   "id": "94d70646",
   "metadata": {},
   "source": [
    "### Os comentário em Python podem ser utilizados no final da programação, o Python ignora o rssto da linha.\n",
    "\n",
    "Exemplo:"
   ]
  },
  {
   "cell_type": "code",
   "execution_count": 2,
   "id": "83799b52",
   "metadata": {},
   "outputs": [
    {
     "name": "stdout",
     "output_type": "stream",
     "text": [
      "Hello World!\n"
     ]
    }
   ],
   "source": [
    "print(\"Hello World!\") # Este é um comentário no final da linha."
   ]
  },
  {
   "cell_type": "markdown",
   "id": "7df94c7f",
   "metadata": {},
   "source": [
    "### Um comentário não porecisa ser um texto que explique o código, ele tambem pode ser usado para impedir que o Python execute o código:\n",
    "\n",
    "Exemplo:"
   ]
  },
  {
   "cell_type": "code",
   "execution_count": 3,
   "id": "f1a59eb9",
   "metadata": {},
   "outputs": [
    {
     "name": "stdout",
     "output_type": "stream",
     "text": [
      "Hello World!\n"
     ]
    }
   ],
   "source": [
    "#print(\"Hello World!\")\n",
    "print(\"Hello World!\")"
   ]
  },
  {
   "cell_type": "markdown",
   "id": "fdf03ba1",
   "metadata": {},
   "source": [
    "### Comentário d evárias linhas\n",
    "\n",
    "Para comentar várias linhas, utiliza-se tres aspas duplas \"\"\"\"\"\"\n",
    "\n",
    "Exemplo:"
   ]
  },
  {
   "cell_type": "raw",
   "id": "f551a492",
   "metadata": {},
   "source": [
    "\"\"\"\n",
    " Este é um comentário para ser utilizado em várias linhas.\n",
    " Tudo o que estiver dentro deste comentário o Python ignora.\n",
    " \n",
    " Exemplo:\n",
    " \n",
    " print(\"Hello World!\")\n",
    "\"\"\""
   ]
  },
  {
   "cell_type": "markdown",
   "id": "b972761d",
   "metadata": {},
   "source": [
    "# Fim"
   ]
  }
 ],
 "metadata": {
  "kernelspec": {
   "display_name": "Python 3.10.2 64-bit",
   "language": "python",
   "name": "python3102jvsc74a57bd03bb03df91ec1981933db38e9cd509750fbcc8736096f2f96108c21544a6fd7c7"
  },
  "language_info": {
   "codemirror_mode": {
    "name": "ipython",
    "version": 3
   },
   "file_extension": ".py",
   "mimetype": "text/x-python",
   "name": "python",
   "nbconvert_exporter": "python",
   "pygments_lexer": "ipython3",
   "version": "3.10.2"
  }
 },
 "nbformat": 4,
 "nbformat_minor": 5
}
