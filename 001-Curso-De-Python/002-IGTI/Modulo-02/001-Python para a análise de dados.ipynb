{
 "cells": [
  {
   "cell_type": "markdown",
   "metadata": {},
   "source": [
    "## Utiização da Biblioteca Numpy"
   ]
  },
  {
   "cell_type": "code",
   "execution_count": 36,
   "metadata": {},
   "outputs": [
    {
     "name": "stdout",
     "output_type": "stream",
     "text": [
      "Requirement already satisfied: numpy in c:\\users\\administrador\\anaconda3\\lib\\site-packages (1.20.3)\n"
     ]
    }
   ],
   "source": [
    "# Importando a biblioteca numpy\n",
    "!pip install numpy\n",
    "import numpy as np"
   ]
  },
  {
   "cell_type": "markdown",
   "metadata": {},
   "source": [
    "## Criação de arrays"
   ]
  },
  {
   "cell_type": "code",
   "execution_count": 37,
   "metadata": {},
   "outputs": [
    {
     "name": "stdout",
     "output_type": "stream",
     "text": [
      "Help on built-in function array in module numpy:\n",
      "\n",
      "array(...)\n",
      "    array(object, dtype=None, *, copy=True, order='K', subok=False, ndmin=0,\n",
      "          like=None)\n",
      "    \n",
      "    Create an array.\n",
      "    \n",
      "    Parameters\n",
      "    ----------\n",
      "    object : array_like\n",
      "        An array, any object exposing the array interface, an object whose\n",
      "        __array__ method returns an array, or any (nested) sequence.\n",
      "        If object is a scalar, a 0-dimensional array containing object is\n",
      "        returned.\n",
      "    dtype : data-type, optional\n",
      "        The desired data-type for the array.  If not given, then the type will\n",
      "        be determined as the minimum type required to hold the objects in the\n",
      "        sequence.\n",
      "    copy : bool, optional\n",
      "        If true (default), then the object is copied.  Otherwise, a copy will\n",
      "        only be made if __array__ returns a copy, if obj is a nested sequence,\n",
      "        or if a copy is needed to satisfy any of the other requirements\n",
      "        (`dtype`, `order`, etc.).\n",
      "    order : {'K', 'A', 'C', 'F'}, optional\n",
      "        Specify the memory layout of the array. If object is not an array, the\n",
      "        newly created array will be in C order (row major) unless 'F' is\n",
      "        specified, in which case it will be in Fortran order (column major).\n",
      "        If object is an array the following holds.\n",
      "    \n",
      "        ===== ========= ===================================================\n",
      "        order  no copy                     copy=True\n",
      "        ===== ========= ===================================================\n",
      "        'K'   unchanged F & C order preserved, otherwise most similar order\n",
      "        'A'   unchanged F order if input is F and not C, otherwise C order\n",
      "        'C'   C order   C order\n",
      "        'F'   F order   F order\n",
      "        ===== ========= ===================================================\n",
      "    \n",
      "        When ``copy=False`` and a copy is made for other reasons, the result is\n",
      "        the same as if ``copy=True``, with some exceptions for 'A', see the\n",
      "        Notes section. The default order is 'K'.\n",
      "    subok : bool, optional\n",
      "        If True, then sub-classes will be passed-through, otherwise\n",
      "        the returned array will be forced to be a base-class array (default).\n",
      "    ndmin : int, optional\n",
      "        Specifies the minimum number of dimensions that the resulting\n",
      "        array should have.  Ones will be pre-pended to the shape as\n",
      "        needed to meet this requirement.\n",
      "    like : array_like\n",
      "        Reference object to allow the creation of arrays which are not\n",
      "        NumPy arrays. If an array-like passed in as ``like`` supports\n",
      "        the ``__array_function__`` protocol, the result will be defined\n",
      "        by it. In this case, it ensures the creation of an array object\n",
      "        compatible with that passed in via this argument.\n",
      "    \n",
      "        .. versionadded:: 1.20.0\n",
      "    \n",
      "    Returns\n",
      "    -------\n",
      "    out : ndarray\n",
      "        An array object satisfying the specified requirements.\n",
      "    \n",
      "    See Also\n",
      "    --------\n",
      "    empty_like : Return an empty array with shape and type of input.\n",
      "    ones_like : Return an array of ones with shape and type of input.\n",
      "    zeros_like : Return an array of zeros with shape and type of input.\n",
      "    full_like : Return a new array with shape of input filled with value.\n",
      "    empty : Return a new uninitialized array.\n",
      "    ones : Return a new array setting values to one.\n",
      "    zeros : Return a new array setting values to zero.\n",
      "    full : Return a new array of given shape filled with value.\n",
      "    \n",
      "    \n",
      "    Notes\n",
      "    -----\n",
      "    When order is 'A' and `object` is an array in neither 'C' nor 'F' order,\n",
      "    and a copy is forced by a change in dtype, then the order of the result is\n",
      "    not necessarily 'C' as expected. This is likely a bug.\n",
      "    \n",
      "    Examples\n",
      "    --------\n",
      "    >>> np.array([1, 2, 3])\n",
      "    array([1, 2, 3])\n",
      "    \n",
      "    Upcasting:\n",
      "    \n",
      "    >>> np.array([1, 2, 3.0])\n",
      "    array([ 1.,  2.,  3.])\n",
      "    \n",
      "    More than one dimension:\n",
      "    \n",
      "    >>> np.array([[1, 2], [3, 4]])\n",
      "    array([[1, 2],\n",
      "           [3, 4]])\n",
      "    \n",
      "    Minimum dimensions 2:\n",
      "    \n",
      "    >>> np.array([1, 2, 3], ndmin=2)\n",
      "    array([[1, 2, 3]])\n",
      "    \n",
      "    Type provided:\n",
      "    \n",
      "    >>> np.array([1, 2, 3], dtype=complex)\n",
      "    array([ 1.+0.j,  2.+0.j,  3.+0.j])\n",
      "    \n",
      "    Data-type consisting of more than one element:\n",
      "    \n",
      "    >>> x = np.array([(1,2),(3,4)],dtype=[('a','<i4'),('b','<i4')])\n",
      "    >>> x['a']\n",
      "    array([1, 3])\n",
      "    \n",
      "    Creating an array from sub-classes:\n",
      "    \n",
      "    >>> np.array(np.mat('1 2; 3 4'))\n",
      "    array([[1, 2],\n",
      "           [3, 4]])\n",
      "    \n",
      "    >>> np.array(np.mat('1 2; 3 4'), subok=True)\n",
      "    matrix([[1, 2],\n",
      "            [3, 4]])\n",
      "\n"
     ]
    }
   ],
   "source": [
    "help(np.array)"
   ]
  },
  {
   "cell_type": "code",
   "execution_count": 38,
   "metadata": {},
   "outputs": [
    {
     "name": "stdout",
     "output_type": "stream",
     "text": [
      "x: [1 2 3]\n",
      "shape: (3,)\n"
     ]
    }
   ],
   "source": [
    "# Criação de um array 1D: [1,2,3]\n",
    "l = [1,2,3]\n",
    "x = np.array(l)\n",
    "print('x:',x)\n",
    "print('shape:', x.shape)"
   ]
  },
  {
   "cell_type": "code",
   "execution_count": 39,
   "metadata": {},
   "outputs": [
    {
     "data": {
      "text/plain": [
       "numpy.ndarray"
      ]
     },
     "execution_count": 39,
     "metadata": {},
     "output_type": "execute_result"
    }
   ],
   "source": [
    "# Verificando o tipo de dado\n",
    "type(x)"
   ]
  },
  {
   "cell_type": "code",
   "execution_count": 40,
   "metadata": {},
   "outputs": [
    {
     "name": "stdout",
     "output_type": "stream",
     "text": [
      "x:\n",
      " [[1 2]\n",
      " [3 4]]\n",
      "shape: (2, 2)\n"
     ]
    }
   ],
   "source": [
    "# Criação de um array 2D: listas aninhadas\n",
    "l= [[1,2],[3,4]]\n",
    "x = np.array(l)\n",
    "print('x:\\n',x)\n",
    "print('shape:', x.shape)"
   ]
  },
  {
   "cell_type": "code",
   "execution_count": 41,
   "metadata": {},
   "outputs": [
    {
     "name": "stdout",
     "output_type": "stream",
     "text": [
      "Help on built-in function zeros in module numpy:\n",
      "\n",
      "zeros(...)\n",
      "    zeros(shape, dtype=float, order='C', *, like=None)\n",
      "    \n",
      "    Return a new array of given shape and type, filled with zeros.\n",
      "    \n",
      "    Parameters\n",
      "    ----------\n",
      "    shape : int or tuple of ints\n",
      "        Shape of the new array, e.g., ``(2, 3)`` or ``2``.\n",
      "    dtype : data-type, optional\n",
      "        The desired data-type for the array, e.g., `numpy.int8`.  Default is\n",
      "        `numpy.float64`.\n",
      "    order : {'C', 'F'}, optional, default: 'C'\n",
      "        Whether to store multi-dimensional data in row-major\n",
      "        (C-style) or column-major (Fortran-style) order in\n",
      "        memory.\n",
      "    like : array_like\n",
      "        Reference object to allow the creation of arrays which are not\n",
      "        NumPy arrays. If an array-like passed in as ``like`` supports\n",
      "        the ``__array_function__`` protocol, the result will be defined\n",
      "        by it. In this case, it ensures the creation of an array object\n",
      "        compatible with that passed in via this argument.\n",
      "    \n",
      "        .. versionadded:: 1.20.0\n",
      "    \n",
      "    Returns\n",
      "    -------\n",
      "    out : ndarray\n",
      "        Array of zeros with the given shape, dtype, and order.\n",
      "    \n",
      "    See Also\n",
      "    --------\n",
      "    zeros_like : Return an array of zeros with shape and type of input.\n",
      "    empty : Return a new uninitialized array.\n",
      "    ones : Return a new array setting values to one.\n",
      "    full : Return a new array of given shape filled with value.\n",
      "    \n",
      "    Examples\n",
      "    --------\n",
      "    >>> np.zeros(5)\n",
      "    array([ 0.,  0.,  0.,  0.,  0.])\n",
      "    \n",
      "    >>> np.zeros((5,), dtype=int)\n",
      "    array([0, 0, 0, 0, 0])\n",
      "    \n",
      "    >>> np.zeros((2, 1))\n",
      "    array([[ 0.],\n",
      "           [ 0.]])\n",
      "    \n",
      "    >>> s = (2,2)\n",
      "    >>> np.zeros(s)\n",
      "    array([[ 0.,  0.],\n",
      "           [ 0.,  0.]])\n",
      "    \n",
      "    >>> np.zeros((2,), dtype=[('x', 'i4'), ('y', 'i4')]) # custom dtype\n",
      "    array([(0, 0), (0, 0)],\n",
      "          dtype=[('x', '<i4'), ('y', '<i4')])\n",
      "\n"
     ]
    }
   ],
   "source": [
    "help(np.zeros)"
   ]
  },
  {
   "cell_type": "code",
   "execution_count": 42,
   "metadata": {},
   "outputs": [
    {
     "name": "stdout",
     "output_type": "stream",
     "text": [
      "x:\n",
      " [[0. 0.]\n",
      " [0. 0.]]\n",
      "shape: (2, 2)\n"
     ]
    }
   ],
   "source": [
    "# arrey contendo apenas 0´s\n",
    "dim = (2,2) #(linhas, colunas)\n",
    "x = np.zeros(dim)\n",
    "print('x:\\n', x)\n",
    "print('shape:', x.shape)"
   ]
  },
  {
   "cell_type": "code",
   "execution_count": 43,
   "metadata": {},
   "outputs": [
    {
     "name": "stdout",
     "output_type": "stream",
     "text": [
      "x:\n",
      " [[1. 1.]\n",
      " [1. 1.]]\n",
      "shape: (2, 2)\n"
     ]
    }
   ],
   "source": [
    "# array contendo apenas 1´s\n",
    "size = (2,2) # (linhas, colunas)\n",
    "x = np.ones(size)\n",
    "print('x:\\n', x)\n",
    "print('shape:', x.shape)"
   ]
  },
  {
   "cell_type": "code",
   "execution_count": 44,
   "metadata": {},
   "outputs": [
    {
     "name": "stdout",
     "output_type": "stream",
     "text": [
      "x: [ 5.  7.  9. 11. 13. 15.]\n",
      "shape: (6,)\n"
     ]
    }
   ],
   "source": [
    "# Criação de valores dentro de um intervalo\n",
    "# Valores uniformes entre 5 e 15\n",
    "x_min, x_max = 5, 15\n",
    "x = np.linspace(start=x_min, stop=x_max, num=6)\n",
    "print('x:', x)\n",
    "print('shape:', x.shape)"
   ]
  },
  {
   "cell_type": "code",
   "execution_count": 45,
   "metadata": {},
   "outputs": [
    {
     "name": "stdout",
     "output_type": "stream",
     "text": [
      "x:\n",
      " [[1. 0. 0. 0.]\n",
      " [0. 1. 0. 0.]\n",
      " [0. 0. 1. 0.]\n",
      " [0. 0. 0. 1.]]\n",
      "shape: (4, 4)\n"
     ]
    }
   ],
   "source": [
    "# Criação da matriz identificada\n",
    "n = 4\n",
    "x = np.eye(n)\n",
    "print('x:\\n', x)\n",
    "print('shape:', x.shape)"
   ]
  },
  {
   "cell_type": "code",
   "execution_count": 46,
   "metadata": {},
   "outputs": [
    {
     "name": "stdout",
     "output_type": "stream",
     "text": [
      "x: [[0.30065155 0.65618236 0.2543602 ]\n",
      " [0.2548225  0.44924675 0.25753218]]\n",
      "shape: (2, 3)\n"
     ]
    }
   ],
   "source": [
    "# Criando valores aleatórios\n",
    "# np.random.seed(10)\n",
    "\n",
    "x= np.random.random(size=(2,3))\n",
    "print('x:', x)\n",
    "print('shape:', x.shape)"
   ]
  },
  {
   "cell_type": "markdown",
   "metadata": {},
   "source": [
    "## Indexação de arrays"
   ]
  },
  {
   "cell_type": "code",
   "execution_count": 47,
   "metadata": {},
   "outputs": [
    {
     "name": "stdout",
     "output_type": "stream",
     "text": [
      "x: [ 10.  20.  30.  40.  50.  60.  70.  80.  90. 100.]\n",
      "shape: (10,)\n"
     ]
    }
   ],
   "source": [
    "# Os indices no python vão de 0 a n-1,\n",
    "# onde n é o tamanho da dimensão\n",
    "\n",
    "x = np.linspace(start=10, stop=100, num=10)\n",
    "print('x:', x)\n",
    "print('shape:', x.shape)\n"
   ]
  },
  {
   "cell_type": "code",
   "execution_count": 48,
   "metadata": {},
   "outputs": [
    {
     "name": "stdout",
     "output_type": "stream",
     "text": [
      "x: [ 10.  20.  30.  40.  50.  60.  70.  80.  90. 100.]\n",
      "primeiro elemento 10.0\n",
      "segundo elemento 20.0\n",
      "último elemento 100.0\n",
      "último elemento 100.0\n"
     ]
    }
   ],
   "source": [
    "# Extração de elementos\n",
    "\n",
    "print('x:', x)\n",
    "print('primeiro elemento', x[0])\n",
    "print('segundo elemento', x[1])\n",
    "print('último elemento', x[9])\n",
    "print('último elemento', x[-1])\n"
   ]
  },
  {
   "cell_type": "code",
   "execution_count": 49,
   "metadata": {},
   "outputs": [
    {
     "name": "stdout",
     "output_type": "stream",
     "text": [
      "x: [ 10.  20.  30.  40.  50.  60.  70.  80.  90. 100.]\n",
      "dois primeiros elementos [10. 20.]\n",
      "dois primeiros elementos [10. 20.]\n",
      "dois últimos elementos [ 90. 100.]\n"
     ]
    }
   ],
   "source": [
    "# slicing: extração de subarrays\n",
    "\n",
    "print('x:', x)\n",
    "print('dois primeiros elementos', x[0:2])\n",
    "print('dois primeiros elementos', x[:2])\n",
    "print('dois últimos elementos', x[-2:])"
   ]
  },
  {
   "cell_type": "code",
   "execution_count": 50,
   "metadata": {},
   "outputs": [
    {
     "name": "stdout",
     "output_type": "stream",
     "text": [
      "x:\n",
      " [[ 10.  20.  30.  40.  50.]\n",
      " [ 60.  70.  80.  90. 100.]]\n"
     ]
    }
   ],
   "source": [
    "# slicing em array 2D (matrizes)\n",
    "\n",
    "x = x.reshape(2, 5) # reshape de x para 2 linhas e 5 colunas\n",
    "print('x:\\n', x)"
   ]
  },
  {
   "cell_type": "code",
   "execution_count": 51,
   "metadata": {},
   "outputs": [
    {
     "name": "stdout",
     "output_type": "stream",
     "text": [
      "primeira linha, segunda coluna: 20.0\n",
      "segunda linha penultima coluna:  90.0\n",
      "ultima linha, ultima coluna:  100.0\n",
      "ultima linha, ultima coluna:  100.0\n"
     ]
    }
   ],
   "source": [
    "# extração de elementos\n",
    "\n",
    "print('primeira linha, segunda coluna:', x[0, 1])\n",
    "print('segunda linha penultima coluna: ', x[1, -2])\n",
    "print('ultima linha, ultima coluna: ', x[1, 4])\n",
    "print('ultima linha, ultima coluna: ', x[-1, -1])"
   ]
  },
  {
   "cell_type": "code",
   "execution_count": 52,
   "metadata": {},
   "outputs": [
    {
     "name": "stdout",
     "output_type": "stream",
     "text": [
      "x:\n",
      " [[ 10.  20.  30.  40.  50.]\n",
      " [ 60.  70.  80.  90. 100.]]\n",
      "primeira linha inteira:  [10. 20. 30. 40. 50.]\n",
      "primeira linha, seginda coluna a quarta coluna:  [20. 30. 40.]\n",
      "ultima coluna inteira:\n",
      "  [[ 50.]\n",
      " [100.]]\n"
     ]
    }
   ],
   "source": [
    "# slicing: extração de subarrays\n",
    "\n",
    "print('x:\\n', x)\n",
    "print('primeira linha inteira: ', x[0, :])\n",
    "print('primeira linha, seginda coluna a quarta coluna: ', x[0, 1:4])\n",
    "print('ultima coluna inteira:\\n ', x[:, [-1]])"
   ]
  },
  {
   "cell_type": "code",
   "execution_count": 53,
   "metadata": {},
   "outputs": [
    {
     "name": "stdout",
     "output_type": "stream",
     "text": [
      "x antes:  [1 2 3]\n",
      "x depois:  [-100    2    3]\n"
     ]
    }
   ],
   "source": [
    "# atenção com compartilhamento de memoria em subarrays!\n",
    "\n",
    "x = np.array([1,2,3])\n",
    "print('x antes: ', x)\n",
    "y = x[:2]\n",
    "y[0] = -100 # alteração do valor em y altara o valor de x\n",
    "print('x depois: ', x)"
   ]
  },
  {
   "cell_type": "code",
   "execution_count": 54,
   "metadata": {},
   "outputs": [
    {
     "name": "stdout",
     "output_type": "stream",
     "text": [
      "x antes:  [1 2 3]\n",
      "x depois:  [1 2 3]\n"
     ]
    }
   ],
   "source": [
    "# atenção com compartilhamento de memroria em subarreys!!\n",
    "\n",
    "x = np.array([1, 2, 3])\n",
    "print('x antes: ', x)\n",
    "y = x[:2].copy()\n",
    "y[0] = -100 # alteração do valor emy altera o valor de x\n",
    "print('x depois: ', x)"
   ]
  },
  {
   "cell_type": "markdown",
   "metadata": {},
   "source": [
    "## Operações Aritiméticas"
   ]
  },
  {
   "cell_type": "code",
   "execution_count": 55,
   "metadata": {},
   "outputs": [
    {
     "name": "stdout",
     "output_type": "stream",
     "text": [
      "x; \n",
      " [[1. 1.]\n",
      " [1. 1.]]\n",
      "y: \n",
      " [[1. 0.]\n",
      " [0. 1.]]\n"
     ]
    }
   ],
   "source": [
    "# Operações aritimeticas elemento a elemento \n",
    "x = np.ones((2,2))\n",
    "y = np.eye(2)\n",
    "print('x; \\n', x)\n",
    "print('y: \\n', y)\n"
   ]
  },
  {
   "cell_type": "code",
   "execution_count": 56,
   "metadata": {},
   "outputs": [
    {
     "name": "stdout",
     "output_type": "stream",
     "text": [
      "soma de dois arrays: \n",
      " [[2. 1.]\n",
      " [1. 2.]]\n",
      "subtração com float/int: \n",
      " [[3. 3.]\n",
      " [3. 3.]]\n"
     ]
    }
   ],
   "source": [
    "# soma \n",
    "print('soma de dois arrays: \\n', x + y)\n",
    "print('subtração com float/int: \\n', x + 2) # broadcasting\n"
   ]
  },
  {
   "cell_type": "code",
   "execution_count": 57,
   "metadata": {},
   "outputs": [
    {
     "name": "stdout",
     "output_type": "stream",
     "text": [
      "soma de dois arrays: \n",
      " [[0. 1.]\n",
      " [1. 0.]]\n",
      "subtração com float/int: \n",
      " [[-1. -1.]\n",
      " [-1. -1.]]\n"
     ]
    }
   ],
   "source": [
    "# subtração\n",
    "print('soma de dois arrays: \\n', x - y)\n",
    "print('subtração com float/int: \\n', x - 2) # broadcasting"
   ]
  },
  {
   "cell_type": "code",
   "execution_count": 58,
   "metadata": {},
   "outputs": [
    {
     "name": "stdout",
     "output_type": "stream",
     "text": [
      "soma de dois arrays: \n",
      " [[ 1. inf]\n",
      " [inf  1.]]\n",
      "subtração com float/int: \n",
      " [[0.5 0.5]\n",
      " [0.5 0.5]]\n"
     ]
    },
    {
     "name": "stderr",
     "output_type": "stream",
     "text": [
      "C:\\Users\\Administrador\\AppData\\Local\\Temp\\ipykernel_1388\\3036059388.py:2: RuntimeWarning: divide by zero encountered in true_divide\n",
      "  print('soma de dois arrays: \\n', x / y)\n"
     ]
    }
   ],
   "source": [
    "# divisão\n",
    "print('soma de dois arrays: \\n', x / y)\n",
    "print('subtração com float/int: \\n', x / 2) # broadcasting"
   ]
  },
  {
   "cell_type": "code",
   "execution_count": 59,
   "metadata": {},
   "outputs": [
    {
     "ename": "ValueError",
     "evalue": "operands could not be broadcast together with shapes (3,) (2,) ",
     "output_type": "error",
     "traceback": [
      "\u001b[1;31m---------------------------------------------------------------------------\u001b[0m",
      "\u001b[1;31mValueError\u001b[0m                                Traceback (most recent call last)",
      "\u001b[1;32md:\\Users\\Administrador\\Documents\\GitHub\\001-Study-Projects\\001-Curso-De-Python\\002-IGTI\\Modulo-02\\001.ipynb Cell 28'\u001b[0m in \u001b[0;36m<module>\u001b[1;34m\u001b[0m\n\u001b[0;32m      <a href='vscode-notebook-cell:/d%3A/Users/Administrador/Documents/GitHub/001-Study-Projects/001-Curso-De-Python/002-IGTI/Modulo-02/001.ipynb#ch0000030?line=0'>1</a>\u001b[0m \u001b[39m# quando o broadcasting não funciona\u001b[39;00m\n\u001b[1;32m----> <a href='vscode-notebook-cell:/d%3A/Users/Administrador/Documents/GitHub/001-Study-Projects/001-Curso-De-Python/002-IGTI/Modulo-02/001.ipynb#ch0000030?line=1'>2</a>\u001b[0m np\u001b[39m.\u001b[39;49marray([\u001b[39m1\u001b[39;49m, \u001b[39m2\u001b[39;49m, \u001b[39m3\u001b[39;49m]) \u001b[39m+\u001b[39;49m np\u001b[39m.\u001b[39;49marray([\u001b[39m1\u001b[39;49m, \u001b[39m2\u001b[39;49m])\n",
      "\u001b[1;31mValueError\u001b[0m: operands could not be broadcast together with shapes (3,) (2,) "
     ]
    }
   ],
   "source": [
    "# quando o broadcasting não funciona\n",
    "np.array([1, 2, 3]) + np.array([1, 2]) # para o broadcasting funcionar tem que estar assim 'np.array([1])'"
   ]
  },
  {
   "cell_type": "code",
   "execution_count": null,
   "metadata": {},
   "outputs": [
    {
     "name": "stdout",
     "output_type": "stream",
     "text": [
      "combinação de operações:\n",
      " [[-2. -1.]\n",
      " [-1. -2.]]\n"
     ]
    }
   ],
   "source": [
    "# soma, subtração e divisão\n",
    "print('combinação de operações:\\n', (x+y)/(x-2))"
   ]
  },
  {
   "cell_type": "markdown",
   "metadata": {},
   "source": [
    "## Funções aritiméticas: multiplicação"
   ]
  },
  {
   "cell_type": "code",
   "execution_count": null,
   "metadata": {},
   "outputs": [
    {
     "name": "stdout",
     "output_type": "stream",
     "text": [
      "x: \n",
      " [[1. 1.]\n",
      " [1. 1.]]\n",
      "y: \n",
      " [[1. 0.]\n",
      " [0. 1.]]\n"
     ]
    }
   ],
   "source": [
    "# multiplicação elemento a elemento\n",
    "print('x: \\n', x)\n",
    "print('y: \\n', y)"
   ]
  },
  {
   "cell_type": "code",
   "execution_count": null,
   "metadata": {},
   "outputs": [
    {
     "name": "stdout",
     "output_type": "stream",
     "text": [
      "multiplicação de dois arrays: \n",
      " [[1. 0.]\n",
      " [0. 1.]]\n",
      "multiplicação com float/int: \n",
      " [[2. 2.]\n",
      " [2. 2.]]\n"
     ]
    }
   ],
   "source": [
    "# multiplicação\n",
    "print('multiplicação de dois arrays: \\n', x * y)\n",
    "print('multiplicação com float/int: \\n', x * 2) # broadcasting"
   ]
  },
  {
   "cell_type": "code",
   "execution_count": null,
   "metadata": {},
   "outputs": [
    {
     "name": "stdout",
     "output_type": "stream",
     "text": [
      "multiplicação matricial (n.dot): \n",
      " [[1. 1.]\n",
      " [1. 1.]]\n",
      "multiplicação matricial (@): \n",
      " [[1. 1.]\n",
      " [1. 1.]]\n",
      "multiplicação matricial (.dot): \n",
      " [[1. 1.]\n",
      " [1. 1.]]\n"
     ]
    }
   ],
   "source": [
    "# multiplicação matricial\n",
    "print('multiplicação matricial (n.dot): \\n', np.dot(x, y))\n",
    "print('multiplicação matricial (@): \\n', x @ y)\n",
    "print('multiplicação matricial (.dot): \\n', x.dot(y))"
   ]
  },
  {
   "cell_type": "code",
   "execution_count": 62,
   "metadata": {},
   "outputs": [
    {
     "name": "stdout",
     "output_type": "stream",
     "text": [
      "A: \n",
      " [[ 1  2]\n",
      " [ 3 -2]]\n",
      "c: \n",
      " [[  7]\n",
      " [-11]]\n"
     ]
    }
   ],
   "source": [
    "\"\"\"\n",
    "Exemplo:\n",
    "solução de um sistema de equações:\n",
    "    a + 2*b = 7\n",
    "    3*a - 2*b = -11\n",
    "    \n",
    "    Solução analitica: (a, b) = (-1, 4)\n",
    "Matricialmente, este problema tem a seguinte forma:\n",
    "    Ax = c, onde:\n",
    "    - x = [a, b]\n",
    "    - A = [[1, 2], [3, -2]]\n",
    "    - c = [7, -11]\n",
    "solução numerica: x = inv(A) @ c,\n",
    "\"\"\"\n",
    "\n",
    "# difeininção do problema\n",
    "A = np.array([[1, 2], [3, -2]])\n",
    "c = np.array([[7],[-11]])\n",
    "print('A: \\n', A)\n",
    "print('c: \\n', c)"
   ]
  },
  {
   "cell_type": "code",
   "execution_count": 63,
   "metadata": {},
   "outputs": [
    {
     "name": "stdout",
     "output_type": "stream",
     "text": [
      "(a, b):  [-1.  4.]\n"
     ]
    }
   ],
   "source": [
    "\"\"\"\n",
    "                            Ax = c\n",
    "                        [1  2  [a  =  [7\n",
    "                         3 -2]  b]    -11]\n",
    "\n",
    "                         x = A-¹c                               \n",
    "\"\"\"\n",
    "\n",
    "# solução\n",
    "x = np.dot(np.linalg.inv(A), c)\n",
    "#x = np.linalg.inv(A) @ c\n",
    "print('(a, b): ', x.ravel())"
   ]
  },
  {
   "cell_type": "markdown",
   "metadata": {},
   "source": [
    "## Comparações e Indexação Booleana"
   ]
  },
  {
   "cell_type": "code",
   "execution_count": 3,
   "metadata": {},
   "outputs": [],
   "source": [
    "# Comparações menor/ menor ou igual:\n",
    "# comparações booleanas\n",
    "import numpy as np\n",
    "\n",
    "A= np.array([1,2,3])\n",
    "B = np.array([2,0,2])\n",
    "S = 3"
   ]
  },
  {
   "cell_type": "code",
   "execution_count": 4,
   "metadata": {},
   "outputs": [
    {
     "name": "stdout",
     "output_type": "stream",
     "text": [
      "Comparação menor: \n",
      "[ True False False]\n",
      "[ True  True False]\n"
     ]
    }
   ],
   "source": [
    "# menor\n",
    "print('Comparação menor: ')\n",
    "print(A < B)\n",
    "print(A < S)"
   ]
  },
  {
   "cell_type": "code",
   "execution_count": 5,
   "metadata": {},
   "outputs": [
    {
     "name": "stdout",
     "output_type": "stream",
     "text": [
      "Comparação menor ou igual\n",
      "[ True False False]\n",
      "[ True  True  True]\n"
     ]
    }
   ],
   "source": [
    "# menor ou igual\n",
    "print(\"Comparação menor ou igual\")\n",
    "print(A <= B)\n",
    "print(A <= S)"
   ]
  },
  {
   "cell_type": "code",
   "execution_count": 6,
   "metadata": {},
   "outputs": [
    {
     "name": "stdout",
     "output_type": "stream",
     "text": [
      "Comparação de igualdade: \n",
      "[False False False]\n",
      "[False False  True]\n"
     ]
    }
   ],
   "source": [
    "# igual\n",
    "print('Comparação de igualdade: ')\n",
    "print(A == B)\n",
    "print(A == S)"
   ]
  },
  {
   "cell_type": "markdown",
   "metadata": {},
   "source": [
    "## Indexação Booleana"
   ]
  },
  {
   "cell_type": "code",
   "execution_count": 7,
   "metadata": {},
   "outputs": [
    {
     "name": "stdout",
     "output_type": "stream",
     "text": [
      "A:  [1 2 3]\n",
      "Condição:  [ True  True False]\n",
      "D:  [1 2]\n"
     ]
    }
   ],
   "source": [
    "# Operações de filtro\n",
    "\n",
    "# Indexação booleana: um novo subrray contendo uma cópia dos elementos em que a condição de verificação se aplica\n",
    "\n",
    "cond = A <= 2\n",
    "D = A[cond]\n",
    "print('A: ', A)\n",
    "print('Condição: ', cond)\n",
    "print('D: ', D)"
   ]
  },
  {
   "cell_type": "markdown",
   "metadata": {},
   "source": [
    "## Comparações"
   ]
  },
  {
   "cell_type": "code",
   "execution_count": 10,
   "metadata": {},
   "outputs": [
    {
     "name": "stdout",
     "output_type": "stream",
     "text": [
      "x: \n",
      " [[1 2]\n",
      " [3 4]]\n",
      "y: \n",
      " [1.4 3.5]\n"
     ]
    }
   ],
   "source": [
    "# Criação dos arrays\n",
    "\n",
    "x = np.array([[1,2],[3,4]])\n",
    "y = np.array([1.4, 3.5])\n",
    "print('x: \\n', x)\n",
    "print('y: \\n', y)"
   ]
  },
  {
   "cell_type": "code",
   "execution_count": 11,
   "metadata": {},
   "outputs": [
    {
     "name": "stdout",
     "output_type": "stream",
     "text": [
      "Comparação de um array com um escalar (>): \n",
      " [[False False]\n",
      " [ True  True]]\n",
      "Comparação de um array com um escalar (>=): \n",
      " [[False  True]\n",
      " [ True  True]]\n",
      "Comparação de um array com um escalar (<): \n",
      " [[ True False]\n",
      " [False False]]\n",
      "Comparação de um array com um escalar (<=): \n",
      " [[ True  True]\n",
      " [False False]]\n",
      "Comparação entre arrays (==): \n",
      " [[ True  True]\n",
      " [ True  True]]\n",
      "Comparação entre arrays (>): \n",
      " [[False False]\n",
      " [False False]]\n",
      "Comparação entre arrays (>): \n",
      " [[False False]\n",
      " [ True  True]]\n"
     ]
    }
   ],
   "source": [
    "# Comparações ponto a ponto\n",
    "\n",
    "print('Comparação de um array com um escalar (>): \\n', x > 2)\n",
    "print('Comparação de um array com um escalar (>=): \\n', x >= 2)\n",
    "print('Comparação de um array com um escalar (<): \\n', x < 2)\n",
    "print('Comparação de um array com um escalar (<=): \\n', x <= 2)\n",
    "print('Comparação entre arrays (==): \\n', x == x)\n",
    "print('Comparação entre arrays (>): \\n', x > x)\n",
    "print('Comparação entre arrays (>): \\n', x > y) # Broadcasting \n"
   ]
  },
  {
   "cell_type": "markdown",
   "metadata": {},
   "source": [
    "## Indexação Booleana"
   ]
  },
  {
   "cell_type": "code",
   "execution_count": 13,
   "metadata": {},
   "outputs": [
    {
     "name": "stdout",
     "output_type": "stream",
     "text": [
      "x: \n",
      " [[ 1  2  7]\n",
      " [ 3 11 21]\n",
      " [42  8  9]]\n"
     ]
    }
   ],
   "source": [
    "# Idexação booleana\n",
    "\n",
    "x = np.array([[1, 2, 7],\n",
    "             [3, 11, 21],\n",
    "             [42, 8, 9]])\n",
    "print('x: \\n', x)"
   ]
  },
  {
   "cell_type": "code",
   "execution_count": 16,
   "metadata": {},
   "outputs": [
    {
     "name": "stdout",
     "output_type": "stream",
     "text": [
      "condição: \n",
      " [[False False False]\n",
      " [False  True  True]\n",
      " [ True False False]]\n",
      "Elementos maiores que 10:  [11 21 42]\n",
      "Número de elementos maiores que 10:  3\n"
     ]
    }
   ],
   "source": [
    "# Indexação booleana: retornar o numero de elementos maiores que k\n",
    "k = 10\n",
    "cond = x > k\n",
    "print('condição: \\n', cond)\n",
    "print(f'Elementos maiores que {k}: ', x[cond])\n",
    "print(f'Números de elementos maiores que {k}: ', len(x[cond]))"
   ]
  },
  {
   "cell_type": "code",
   "execution_count": 17,
   "metadata": {},
   "outputs": [
    {
     "name": "stdout",
     "output_type": "stream",
     "text": [
      "Condição: \n",
      " [[False  True False]\n",
      " [False False False]\n",
      " [ True  True False]]\n",
      "Números pares:  [ 2 42  8]\n"
     ]
    }
   ],
   "source": [
    "# Indexação booleana: extração dos números pares\n",
    "cond = x % 2 == 0 # números pares\n",
    "print('Condição: \\n', cond)\n",
    "print('Números pares: ', x[cond])"
   ]
  },
  {
   "cell_type": "code",
   "execution_count": 18,
   "metadata": {},
   "outputs": [
    {
     "name": "stdout",
     "output_type": "stream",
     "text": [
      "Condição: \n",
      " [[ True False  True]\n",
      " [ True  True  True]\n",
      " [False False  True]]\n",
      "Numeros impares: \n",
      " [ 1  7  3 11 21  9]\n"
     ]
    }
   ],
   "source": [
    "# Indexaçõ booleana: extração dos números impares\n",
    "cond = x % 2 == 1 # números impares\n",
    "print('Condição: \\n', cond)\n",
    "print('Numeros impares: \\n', x[cond])"
   ]
  },
  {
   "cell_type": "markdown",
   "metadata": {},
   "source": [
    "## Dicas Gerais Numpy"
   ]
  },
  {
   "cell_type": "code",
   "execution_count": 19,
   "metadata": {},
   "outputs": [
    {
     "name": "stdout",
     "output_type": "stream",
     "text": [
      "x: \n",
      " [[ 1  3  7]\n",
      " [ 4 11 21]\n",
      " [42  8  9]]\n"
     ]
    }
   ],
   "source": [
    "# array\n",
    "x = np.array([[1, 3, 7],\n",
    "              [4, 11, 21],\n",
    "              [42, 8, 9]])\n",
    "print('x: \\n', x)"
   ]
  },
  {
   "cell_type": "code",
   "execution_count": 23,
   "metadata": {},
   "outputs": [
    {
     "name": "stdout",
     "output_type": "stream",
     "text": [
      "Transfomação de um vetor coluna: \n",
      " [[ 1]\n",
      " [ 3]\n",
      " [ 7]\n",
      " [ 4]\n",
      " [11]\n",
      " [21]\n",
      " [42]\n",
      " [ 8]\n",
      " [ 9]]\n"
     ]
    }
   ],
   "source": [
    "#reshape: transformar a matriz em um vetor coluna\n",
    "# (3, 3) virar (9, 1): 3 * 3 = 9*1 = 9\n",
    "print('Transfomação de um vetor coluna: \\n', x.reshape(9, 1))"
   ]
  },
  {
   "cell_type": "code",
   "execution_count": 24,
   "metadata": {},
   "outputs": [
    {
     "name": "stdout",
     "output_type": "stream",
     "text": [
      "x: transposta: \n",
      " [[ 1  4 42]\n",
      " [ 3 11  8]\n",
      " [ 7 21  9]]\n"
     ]
    }
   ],
   "source": [
    "# Transposição de amtriz\n",
    "print('x: transposta: \\n', x.T)"
   ]
  },
  {
   "cell_type": "code",
   "execution_count": 25,
   "metadata": {},
   "outputs": [
    {
     "name": "stdout",
     "output_type": "stream",
     "text": [
      "x: \n",
      " [[ 1  3  7]\n",
      " [ 4 11 21]\n",
      " [42  8  9]]\n",
      "Soma de todos elementos de x:  106\n",
      "Soma de x ao longo das linhas:  [47 22 37]\n",
      "Soma de x ao longo das colunas:  [11 36 59]\n"
     ]
    }
   ],
   "source": [
    "# np.sum: soma em um dado eixo, axis = {0: linha, 1: coluna}\n",
    "print('x: \\n', x)\n",
    "print('Soma de todos elementos de x: ', np.sum(x))\n",
    "print('Soma de x ao longo das linhas: ', np.sum(x, axis=0))\n",
    "print('Soma de x ao longo das colunas: ', np.sum(x, axis=1))\n"
   ]
  },
  {
   "cell_type": "code",
   "execution_count": null,
   "metadata": {},
   "outputs": [],
   "source": []
  }
 ],
 "metadata": {
  "interpreter": {
   "hash": "3bb03df91ec1981933db38e9cd509750fbcc8736096f2f96108c21544a6fd7c7"
  },
  "kernelspec": {
   "display_name": "Python 3.10.2 64-bit",
   "language": "python",
   "name": "python3"
  },
  "language_info": {
   "codemirror_mode": {
    "name": "ipython",
    "version": 3
   },
   "file_extension": ".py",
   "mimetype": "text/x-python",
   "name": "python",
   "nbconvert_exporter": "python",
   "pygments_lexer": "ipython3",
   "version": "3.10.2"
  },
  "orig_nbformat": 4
 },
 "nbformat": 4,
 "nbformat_minor": 2
}
