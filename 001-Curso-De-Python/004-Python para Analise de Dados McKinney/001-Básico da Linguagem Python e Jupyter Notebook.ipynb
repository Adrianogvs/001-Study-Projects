{
 "cells": [
  {
   "cell_type": "markdown",
   "metadata": {},
   "source": [
    "# Python para Análise de Dados"
   ]
  },
  {
   "cell_type": "markdown",
   "metadata": {},
   "source": [
    "#### Variáveis e passagem de argumentos"
   ]
  },
  {
   "cell_type": "code",
   "execution_count": 42,
   "metadata": {},
   "outputs": [],
   "source": [
    "# Quando fazemos uma atribuição a uma variável (ou a um nome) em Python, estamos criando uma referência ao objeto do lado direito do sinal de igualdade.\n",
    "# Quando passamos objetos como argumentos para uma função, novas variáveis locais são criadas para referenciar os objetos originais, sem qualquer cópia. \n",
    "# Se você vincular um novo objeto a uma variável em uma função, essa alteração não se refletirá no escopo-pai. \n",
    "# Assim, é possível alterar o conteúdo interno de um argumento mutável. Suponha que tivéssemos a seguinte função:\n",
    "\n",
    "def append_element(some_list, element):\n",
    "    some_list.append(element)\n"
   ]
  },
  {
   "cell_type": "code",
   "execution_count": 43,
   "metadata": {},
   "outputs": [],
   "source": [
    "# Atribuindo ua lista para o objeto 'data'\n",
    "data = [1,2,3]"
   ]
  },
  {
   "cell_type": "code",
   "execution_count": 44,
   "metadata": {},
   "outputs": [],
   "source": [
    "# Adicionando o elemento 4 no objeto 'data'\n",
    "append_element(data, 4)"
   ]
  },
  {
   "cell_type": "code",
   "execution_count": 45,
   "metadata": {},
   "outputs": [
    {
     "data": {
      "text/plain": [
       "[1, 2, 3, 4]"
      ]
     },
     "execution_count": 45,
     "metadata": {},
     "output_type": "execute_result"
    }
   ],
   "source": [
    "# Imprimindo os elementos do objeto 'a'\n",
    "data"
   ]
  },
  {
   "cell_type": "markdown",
   "metadata": {},
   "source": [
    "#### Referências dinâmicas, tipos fortes"
   ]
  },
  {
   "cell_type": "code",
   "execution_count": 46,
   "metadata": {},
   "outputs": [],
   "source": [
    "# A referências a objetos em Python não têm nenhum tipo associado a elas. \n",
    "# Não há problemas com as instruções a seguir:\n",
    "a = 5"
   ]
  },
  {
   "cell_type": "code",
   "execution_count": 47,
   "metadata": {},
   "outputs": [
    {
     "data": {
      "text/plain": [
       "int"
      ]
     },
     "execution_count": 47,
     "metadata": {},
     "output_type": "execute_result"
    }
   ],
   "source": [
    "# Verificando o tipo de dado do objeto 'a'\n",
    "type(a)"
   ]
  },
  {
   "cell_type": "code",
   "execution_count": 48,
   "metadata": {},
   "outputs": [],
   "source": [
    "# Definindo um elemento para o objeto 'a'\n",
    "a = 'foo'"
   ]
  },
  {
   "cell_type": "code",
   "execution_count": 49,
   "metadata": {},
   "outputs": [
    {
     "data": {
      "text/plain": [
       "str"
      ]
     },
     "execution_count": 49,
     "metadata": {},
     "output_type": "execute_result"
    }
   ],
   "source": [
    "# Verificando o tipo de dado do objeto 'a'\n",
    "type(a)"
   ]
  },
  {
   "cell_type": "code",
   "execution_count": 50,
   "metadata": {},
   "outputs": [
    {
     "ename": "TypeError",
     "evalue": "can only concatenate str (not \"int\") to str",
     "output_type": "error",
     "traceback": [
      "\u001b[1;31m---------------------------------------------------------------------------\u001b[0m",
      "\u001b[1;31mTypeError\u001b[0m                                 Traceback (most recent call last)",
      "\u001b[1;32md:\\Users\\Administrador\\Documents\\GitHub\\001-Study-Projects\\001-Curso-De-Python\\004-Python para Analise de Dados McKinney\\001-Básico da Linguagem Python e Jupyter Notebook.ipynb Cell 12'\u001b[0m in \u001b[0;36m<module>\u001b[1;34m\u001b[0m\n\u001b[0;32m      <a href='vscode-notebook-cell:/d%3A/Users/Administrador/Documents/GitHub/001-Study-Projects/001-Curso-De-Python/004-Python%20para%20Analise%20de%20Dados%20McKinney/001-B%C3%A1sico%20da%20Linguagem%20Python%20e%20Jupyter%20Notebook.ipynb#ch0000011?line=0'>1</a>\u001b[0m \u001b[39m# Observação:\u001b[39;00m\n\u001b[0;32m      <a href='vscode-notebook-cell:/d%3A/Users/Administrador/Documents/GitHub/001-Study-Projects/001-Curso-De-Python/004-Python%20para%20Analise%20de%20Dados%20McKinney/001-B%C3%A1sico%20da%20Linguagem%20Python%20e%20Jupyter%20Notebook.ipynb#ch0000011?line=1'>2</a>\u001b[0m \u001b[39m# Pyhton é um alinguagem tipada, ou seja, podem ser alteradas. Exemplo:\u001b[39;00m\n\u001b[1;32m----> <a href='vscode-notebook-cell:/d%3A/Users/Administrador/Documents/GitHub/001-Study-Projects/001-Curso-De-Python/004-Python%20para%20Analise%20de%20Dados%20McKinney/001-B%C3%A1sico%20da%20Linguagem%20Python%20e%20Jupyter%20Notebook.ipynb#ch0000011?line=3'>4</a>\u001b[0m \u001b[39m'\u001b[39;49m\u001b[39m5\u001b[39;49m\u001b[39m'\u001b[39;49m \u001b[39m+\u001b[39;49m \u001b[39m5\u001b[39;49m\n",
      "\u001b[1;31mTypeError\u001b[0m: can only concatenate str (not \"int\") to str"
     ]
    }
   ],
   "source": [
    "# Observação:\n",
    "# Pyhton é uma linguagem tipada, ou seja, podem ser alteradas. Exemplo:\n",
    "\n",
    "'5' + 5"
   ]
  },
  {
   "cell_type": "code",
   "execution_count": 51,
   "metadata": {},
   "outputs": [
    {
     "data": {
      "text/plain": [
       "10"
      ]
     },
     "execution_count": 51,
     "metadata": {},
     "output_type": "execute_result"
    }
   ],
   "source": [
    "5 + 5"
   ]
  },
  {
   "cell_type": "markdown",
   "metadata": {},
   "source": [
    "#### Atributos e Métodos"
   ]
  },
  {
   "cell_type": "code",
   "execution_count": 52,
   "metadata": {},
   "outputs": [],
   "source": [
    "# Para acessar o atributo e métodos, usa-se a seguinte sintaxe:\n",
    "# obj.nome_do_atributo\n",
    "# Exemplo:\n",
    "\n",
    "a = 'foo'"
   ]
  },
  {
   "cell_type": "code",
   "execution_count": 53,
   "metadata": {},
   "outputs": [
    {
     "data": {
      "text/plain": [
       "'FOO'"
      ]
     },
     "execution_count": 53,
     "metadata": {},
     "output_type": "execute_result"
    }
   ],
   "source": [
    "# Para visualuzar basta digitar a letra 'a' seguida de um ponto '.' e depois utilizara tecla 'tab', exemplo:\n",
    "\n",
    "a.upper()"
   ]
  },
  {
   "cell_type": "markdown",
   "metadata": {},
   "source": [
    "#### Duck Typing"
   ]
  },
  {
   "cell_type": "code",
   "execution_count": 54,
   "metadata": {},
   "outputs": [],
   "source": [
    "# No Python, um objeto é considerado iterável se ele implementa o método __iter__ , permitindo, por exemplo, que um loop for seja executado sobre ele.\n",
    "# Verificar se um objeto é interável, basta utilizar a função iter, exemplo:\n",
    "\n",
    "def interavel(obj):\n",
    "    try:\n",
    "        iter(obj)\n",
    "        return True\n",
    "    except TypeError: # Não é interável\n",
    "        return False\n",
    "\n"
   ]
  },
  {
   "cell_type": "code",
   "execution_count": 55,
   "metadata": {},
   "outputs": [
    {
     "data": {
      "text/plain": [
       "True"
      ]
     },
     "execution_count": 55,
     "metadata": {},
     "output_type": "execute_result"
    }
   ],
   "source": [
    "interavel('a string')"
   ]
  },
  {
   "cell_type": "code",
   "execution_count": 56,
   "metadata": {},
   "outputs": [
    {
     "data": {
      "text/plain": [
       "True"
      ]
     },
     "execution_count": 56,
     "metadata": {},
     "output_type": "execute_result"
    }
   ],
   "source": [
    "interavel([1,2,3])"
   ]
  },
  {
   "cell_type": "code",
   "execution_count": 57,
   "metadata": {},
   "outputs": [
    {
     "data": {
      "text/plain": [
       "False"
      ]
     },
     "execution_count": 57,
     "metadata": {},
     "output_type": "execute_result"
    }
   ],
   "source": [
    "interavel(5)"
   ]
  },
  {
   "cell_type": "markdown",
   "metadata": {},
   "source": [
    "##### Objetos Mutáveis e Imutáveis"
   ]
  },
  {
   "cell_type": "code",
   "execution_count": 58,
   "metadata": {},
   "outputs": [
    {
     "data": {
      "text/plain": [
       "['foo', 2, (3, 4)]"
      ]
     },
     "execution_count": 58,
     "metadata": {},
     "output_type": "execute_result"
    }
   ],
   "source": [
    "# A maioria dos objetos em Python, como listas, dicionários, array Numpy e a maior parte dos tipos definidos pelo usuário( class), é mutável.\n",
    "# Isso significa que o objetos ou os valores que eles contêm podem ser modificados. Exemplos de objetos mutáveis:\n",
    "\n",
    "a_list = ['foo', 2, [4, 5]]\n",
    "a_list[2]=(3,4)\n",
    "a_list"
   ]
  },
  {
   "cell_type": "code",
   "execution_count": 59,
   "metadata": {},
   "outputs": [
    {
     "ename": "TypeError",
     "evalue": "'tuple' object does not support item assignment",
     "output_type": "error",
     "traceback": [
      "\u001b[1;31m---------------------------------------------------------------------------\u001b[0m",
      "\u001b[1;31mTypeError\u001b[0m                                 Traceback (most recent call last)",
      "\u001b[1;32md:\\Users\\Administrador\\Documents\\GitHub\\001-Study-Projects\\001-Curso-De-Python\\004-Python para Analise de Dados McKinney\\001-Básico da Linguagem Python e Jupyter Notebook.ipynb Cell 24'\u001b[0m in \u001b[0;36m<module>\u001b[1;34m\u001b[0m\n\u001b[0;32m      <a href='vscode-notebook-cell:/d%3A/Users/Administrador/Documents/GitHub/001-Study-Projects/001-Curso-De-Python/004-Python%20para%20Analise%20de%20Dados%20McKinney/001-B%C3%A1sico%20da%20Linguagem%20Python%20e%20Jupyter%20Notebook.ipynb#ch0000023?line=0'>1</a>\u001b[0m \u001b[39m# As string e tuplas, são exemplos de Objetos NÃO Mutáveis, veja:\u001b[39;00m\n\u001b[0;32m      <a href='vscode-notebook-cell:/d%3A/Users/Administrador/Documents/GitHub/001-Study-Projects/001-Curso-De-Python/004-Python%20para%20Analise%20de%20Dados%20McKinney/001-B%C3%A1sico%20da%20Linguagem%20Python%20e%20Jupyter%20Notebook.ipynb#ch0000023?line=1'>2</a>\u001b[0m a_tuple \u001b[39m=\u001b[39m (\u001b[39m3\u001b[39m, \u001b[39m5\u001b[39m, (\u001b[39m4\u001b[39m,\u001b[39m5\u001b[39m))\n\u001b[1;32m----> <a href='vscode-notebook-cell:/d%3A/Users/Administrador/Documents/GitHub/001-Study-Projects/001-Curso-De-Python/004-Python%20para%20Analise%20de%20Dados%20McKinney/001-B%C3%A1sico%20da%20Linguagem%20Python%20e%20Jupyter%20Notebook.ipynb#ch0000023?line=2'>3</a>\u001b[0m a_tuple[\u001b[39m1\u001b[39m] \u001b[39m=\u001b[39m \u001b[39m'\u001b[39m\u001b[39mfour\u001b[39m\u001b[39m'\u001b[39m\n\u001b[0;32m      <a href='vscode-notebook-cell:/d%3A/Users/Administrador/Documents/GitHub/001-Study-Projects/001-Curso-De-Python/004-Python%20para%20Analise%20de%20Dados%20McKinney/001-B%C3%A1sico%20da%20Linguagem%20Python%20e%20Jupyter%20Notebook.ipynb#ch0000023?line=3'>4</a>\u001b[0m a_tuple\n",
      "\u001b[1;31mTypeError\u001b[0m: 'tuple' object does not support item assignment"
     ]
    }
   ],
   "source": [
    "# As string e tuplas, são exemplos de Objetos NÃO Mutáveis, veja:\n",
    "a_tuple = (3, 5, (4,5))\n",
    "a_tuple[1] = 'four'\n",
    "a_tuple"
   ]
  },
  {
   "cell_type": "markdown",
   "metadata": {},
   "source": [
    "#### Operadores Binários\n",
    "\n",
    "Operadores | Descrição\n",
    "---|---\n",
    "a + b | Soma a e b\n",
    "a - b | Subtrai a de b\n",
    "a * b | Multiplica a por b\n",
    "a / b | Divide a por b\n",
    "a // b | Faz divisão pelo piso, descartando o resto fracionário\n",
    "a ** b | Eleva a à potencia de b\n",
    "a & b | True se tanto a quanto b forem True; para inteiros, é a operação bit a bit (bitwise) AND\n",
    "a or b | True e a ou b for True pode-se usar o PIPE \n",
    "a ^ b | Para booleanos, True se a ou b for True, mas não ambos; para inteiros, é a operaçãp bit a bit EXCLUSIVE-OR\n",
    "a == b | True se a for igual a b\n",
    "a != b | True se a não for igual a b\n",
    "a < b, a <= b | True se a for meor que (menor ou iguala a ) b\n",
    "a > b, a >= b | True se a for meior que (maior ou igual a ) b\n",
    "a is b | True se a e b referenciarem o mesmo objeto Python\n",
    "a is not b | True se a e b referenciarem objetos Python diferentes"
   ]
  },
  {
   "cell_type": "markdown",
   "metadata": {},
   "source": [
    "#### Tipos Escalares\n",
    "\n",
    "Tipo | Descrição\n",
    "---|---\n",
    "None | O valor 'null' de Python (há somente uma instância do objeto None)\n",
    "str | Tipo string: armazena strings Unicode (codificadas com UTF-8)\n",
    "bytes | Bytes ASCII puros (ou Unicode codificado com bytes)\n",
    "float | Números com ponto flutiantes com dupla precisão (64 bits; observe que não há um tipo double esperado)\n",
    "bool | Um valor True ou False\n",
    "int | Inteiro com sinal, com precisão arbitrária"
   ]
  },
  {
   "cell_type": "code",
   "execution_count": 60,
   "metadata": {},
   "outputs": [
    {
     "name": "stdout",
     "output_type": "stream",
     "text": [
      "<class 'int'>\n",
      "<class 'float'>\n"
     ]
    }
   ],
   "source": [
    "# Exemplos de tipos númericos (int e float)\n",
    "\n",
    "# int\n",
    "a = 4\n",
    "print(type(a))\n",
    "\n",
    "# float\n",
    "b = 4.5\n",
    "print(type(b))"
   ]
  },
  {
   "cell_type": "code",
   "execution_count": 61,
   "metadata": {},
   "outputs": [
    {
     "name": "stdout",
     "output_type": "stream",
     "text": [
      "<class 'str'>\n"
     ]
    }
   ],
   "source": [
    "# Exemplos de tipo string\n",
    "\n",
    "c = 'string'\n",
    "print(type(c))"
   ]
  },
  {
   "cell_type": "markdown",
   "metadata": {},
   "source": [
    "#### Convertendo Objetos em Python"
   ]
  },
  {
   "cell_type": "code",
   "execution_count": 62,
   "metadata": {},
   "outputs": [
    {
     "name": "stdout",
     "output_type": "stream",
     "text": [
      "<class 'float'>\n"
     ]
    }
   ],
   "source": [
    "# Atribuindo o valor float para o objeto 'a'\n",
    "a = 5.8\n",
    "print(type(a))"
   ]
  },
  {
   "cell_type": "code",
   "execution_count": 63,
   "metadata": {},
   "outputs": [
    {
     "name": "stdout",
     "output_type": "stream",
     "text": [
      "<class 'float'>\n",
      "<class 'str'>\n"
     ]
    }
   ],
   "source": [
    "# Convertendo o objeto a de float para string, utilizando a a função 'str'\n",
    "b = str(a)\n",
    "print(type(a))\n",
    "print(type(b))"
   ]
  },
  {
   "cell_type": "markdown",
   "metadata": {},
   "source": [
    "#### Formatação de casas decimais"
   ]
  },
  {
   "cell_type": "code",
   "execution_count": 64,
   "metadata": {},
   "outputs": [
    {
     "name": "stdout",
     "output_type": "stream",
     "text": [
      "O a vale: 4.99.\n"
     ]
    }
   ],
   "source": [
    "# Formatação de casas decimais, basta utilizar {:.2f}, exemplo:\n",
    "\n",
    "a = 4.986866\n",
    "print(f'O a vale: {a:.2f}.') # Este exemplo esta definindo a quantidade de duas casas decimais"
   ]
  },
  {
   "cell_type": "markdown",
   "metadata": {},
   "source": [
    "#### Controle de Fluxo"
   ]
  },
  {
   "cell_type": "markdown",
   "metadata": {},
   "source": [
    "##### Função range()"
   ]
  },
  {
   "cell_type": "code",
   "execution_count": 65,
   "metadata": {},
   "outputs": [
    {
     "data": {
      "text/plain": [
       "[0, 2, 4, 6, 8]"
      ]
     },
     "execution_count": 65,
     "metadata": {},
     "output_type": "execute_result"
    }
   ],
   "source": [
    "# A função range() devolve um interador que produz uma sequência de inteiros uniformemente espaçados:\n",
    "# Esta função é definida da seguinte forma, range(inicio, fim, intervalo)\n",
    "\n",
    "list(range(0, 10, 2))"
   ]
  },
  {
   "cell_type": "code",
   "execution_count": 66,
   "metadata": {},
   "outputs": [
    {
     "data": {
      "text/plain": [
       "[0, 1, 2, 3, 4, 5, 6, 7, 8, 9]"
      ]
     },
     "execution_count": 66,
     "metadata": {},
     "output_type": "execute_result"
    }
   ],
   "source": [
    "# Criando uma lista com 10 elementos\n",
    "\n",
    "list(range(10))"
   ]
  },
  {
   "cell_type": "code",
   "execution_count": 67,
   "metadata": {},
   "outputs": [
    {
     "name": "stdout",
     "output_type": "stream",
     "text": [
      "1 2 3 4 5 6 7 8 9 "
     ]
    }
   ],
   "source": [
    "# Utilizando a função range() para apresentar os numeros multiplos de 3, 5 e 8\n",
    "\n",
    "sum = 0\n",
    "for i in range(1000):\n",
    "    if i % 3 == 0 and i % 5 == 0 and i % 8 == 0:\n",
    "        sum += 1\n",
    "        print(sum, end=' ')"
   ]
  },
  {
   "cell_type": "markdown",
   "metadata": {},
   "source": [
    "##### If(), Elif() e Else:"
   ]
  },
  {
   "cell_type": "code",
   "execution_count": 68,
   "metadata": {},
   "outputs": [
    {
     "name": "stdout",
     "output_type": "stream",
     "text": [
      "Segunda condição True\n"
     ]
    }
   ],
   "source": [
    "# Utilização das condições If.Elif e Else\n",
    "\n",
    "x = 1\n",
    "if x < 0:\n",
    "    print('Priemira condição',True)\n",
    "elif x > 0:\n",
    "    print('Segunda condição',True)\n",
    "else:\n",
    "    print(False)\n"
   ]
  },
  {
   "cell_type": "markdown",
   "metadata": {},
   "source": [
    "#### Expressões Ternárias"
   ]
  },
  {
   "cell_type": "code",
   "execution_count": 69,
   "metadata": {},
   "outputs": [
    {
     "data": {
      "text/plain": [
       "'Nom-negative'"
      ]
     },
     "execution_count": 69,
     "metadata": {},
     "output_type": "execute_result"
    }
   ],
   "source": [
    "# Uma expressão ternaria em Python permite combinar um bloco de if-else que gera um valor em uma única linha ou expressão. A sintaxe para isso em Python é:\n",
    "\n",
    "\"value = true-expr if condition else false-expr\"\n",
    "\n",
    "x = 5\n",
    "\n",
    "'Nom-negative' if x >= 0 else 'Negative'"
   ]
  },
  {
   "cell_type": "markdown",
   "metadata": {},
   "source": [
    "##### For( )"
   ]
  },
  {
   "cell_type": "code",
   "execution_count": 70,
   "metadata": {},
   "outputs": [
    {
     "name": "stdout",
     "output_type": "stream",
     "text": [
      "0 1 2 3 4 "
     ]
    }
   ],
   "source": [
    "# Estrutura do for() é:\n",
    "\n",
    "x = 0\n",
    "for x in range(5):\n",
    "    print(x, end=' ')\n",
    "\n",
    "# O valor 5 não será impresso, por se tratar de valor exlcusivo, ou seja, se quisr que seja impresso o valor 5, usa-se o valor range(6) ou range(5+1)"
   ]
  },
  {
   "cell_type": "markdown",
   "metadata": {},
   "source": [
    "##### Laço While( )"
   ]
  },
  {
   "cell_type": "code",
   "execution_count": 71,
   "metadata": {},
   "outputs": [
    {
     "ename": "ValueError",
     "evalue": "invalid literal for int() with base 10: ''",
     "output_type": "error",
     "traceback": [
      "\u001b[1;31m---------------------------------------------------------------------------\u001b[0m",
      "\u001b[1;31mValueError\u001b[0m                                Traceback (most recent call last)",
      "\u001b[1;32md:\\Users\\Administrador\\Documents\\GitHub\\001-Study-Projects\\001-Curso-De-Python\\004-Python para Analise de Dados McKinney\\001-Básico da Linguagem Python e Jupyter Notebook.ipynb Cell 46'\u001b[0m in \u001b[0;36m<module>\u001b[1;34m\u001b[0m\n\u001b[0;32m      <a href='vscode-notebook-cell:/d%3A/Users/Administrador/Documents/GitHub/001-Study-Projects/001-Curso-De-Python/004-Python%20para%20Analise%20de%20Dados%20McKinney/001-B%C3%A1sico%20da%20Linguagem%20Python%20e%20Jupyter%20Notebook.ipynb#ch0000040?line=0'>1</a>\u001b[0m \u001b[39m# É utilizado quando não se sabe o vaor final, ou seja, até onde a operação irá ser realizada. \u001b[39;00m\n\u001b[0;32m      <a href='vscode-notebook-cell:/d%3A/Users/Administrador/Documents/GitHub/001-Study-Projects/001-Curso-De-Python/004-Python%20para%20Analise%20de%20Dados%20McKinney/001-B%C3%A1sico%20da%20Linguagem%20Python%20e%20Jupyter%20Notebook.ipynb#ch0000040?line=1'>2</a>\u001b[0m \u001b[39m# Veja que não se sabe o valor de 'y', então usa-se o While().\u001b[39;00m\n\u001b[0;32m      <a href='vscode-notebook-cell:/d%3A/Users/Administrador/Documents/GitHub/001-Study-Projects/001-Curso-De-Python/004-Python%20para%20Analise%20de%20Dados%20McKinney/001-B%C3%A1sico%20da%20Linguagem%20Python%20e%20Jupyter%20Notebook.ipynb#ch0000040?line=2'>3</a>\u001b[0m \u001b[39m#  Exemplo:\u001b[39;00m\n\u001b[1;32m----> <a href='vscode-notebook-cell:/d%3A/Users/Administrador/Documents/GitHub/001-Study-Projects/001-Curso-De-Python/004-Python%20para%20Analise%20de%20Dados%20McKinney/001-B%C3%A1sico%20da%20Linguagem%20Python%20e%20Jupyter%20Notebook.ipynb#ch0000040?line=4'>5</a>\u001b[0m y \u001b[39m=\u001b[39m \u001b[39mint\u001b[39;49m(\u001b[39minput\u001b[39;49m(\u001b[39m'\u001b[39;49m\u001b[39mInforme um numero: \u001b[39;49m\u001b[39m'\u001b[39;49m))\n\u001b[0;32m      <a href='vscode-notebook-cell:/d%3A/Users/Administrador/Documents/GitHub/001-Study-Projects/001-Curso-De-Python/004-Python%20para%20Analise%20de%20Dados%20McKinney/001-B%C3%A1sico%20da%20Linguagem%20Python%20e%20Jupyter%20Notebook.ipynb#ch0000040?line=5'>6</a>\u001b[0m x \u001b[39m=\u001b[39m \u001b[39m0\u001b[39m\n\u001b[0;32m      <a href='vscode-notebook-cell:/d%3A/Users/Administrador/Documents/GitHub/001-Study-Projects/001-Curso-De-Python/004-Python%20para%20Analise%20de%20Dados%20McKinney/001-B%C3%A1sico%20da%20Linguagem%20Python%20e%20Jupyter%20Notebook.ipynb#ch0000040?line=6'>7</a>\u001b[0m \u001b[39mwhile\u001b[39;00m x \u001b[39m<\u001b[39m y:\n",
      "\u001b[1;31mValueError\u001b[0m: invalid literal for int() with base 10: ''"
     ]
    }
   ],
   "source": [
    "# É utilizado quando não se sabe o vaor final, ou seja, até onde a operação irá ser realizada. \n",
    "# Veja que não se sabe o valor de 'y', então usa-se o While().\n",
    "#  Exemplo:\n",
    "\n",
    "y = int(input('Informe um numero: '))\n",
    "x = 0\n",
    "while x < y:\n",
    "    print(x, end=' ') \n",
    "    x += 1\n",
    " \n",
    "\n",
    "# Observação:\n",
    "# Se deixar o contator antes da função print(), será exibido o valor de 1 a 5, se não, será exibido o valor de 0 a 4."
   ]
  },
  {
   "cell_type": "markdown",
   "metadata": {},
   "source": [
    "#### Palavras Reservas (continue e break) e Instrução 'no-op' (pass)"
   ]
  },
  {
   "cell_type": "code",
   "execution_count": 72,
   "metadata": {},
   "outputs": [
    {
     "name": "stdout",
     "output_type": "stream",
     "text": [
      "12\n"
     ]
    }
   ],
   "source": [
    "# A palavra reservada 'continue' é utilizada para ignoar uma parte do código, no qual faz com que o quando chegar em um determinado elemento ele continue. \n",
    "# Exemplo:\n",
    "sequence = [1, 2, None, 4, None, 5]\n",
    "total = 0\n",
    "for value in sequence:\n",
    "    if value is None: # Quando for encotrado o elemento 'None' na lista 'sequence', ele vai pula e continuar o processo.\n",
    "        continue\n",
    "    total += value\n",
    "print(total)"
   ]
  },
  {
   "cell_type": "code",
   "execution_count": 73,
   "metadata": {},
   "outputs": [
    {
     "name": "stdout",
     "output_type": "stream",
     "text": [
      "12\n"
     ]
    }
   ],
   "source": [
    "# Outra palavra rserva é p 'pass', é utilizada quando nenhuma ação deva ser executada, ou para um código ainda não implementado.\n",
    "# Exemplo:\n",
    "\n",
    "sequence = [1, 2, None, 4, None, 5]\n",
    "total = 0\n",
    "for value in sequence:\n",
    "    if value is None:\n",
    "        pass # Quando for encotrado o elemento 'None' na lista 'sequence', ele vai passar e contiuar o processo.\n",
    "    else:\n",
    "        total += value\n",
    "print(total)"
   ]
  },
  {
   "cell_type": "code",
   "execution_count": 74,
   "metadata": {},
   "outputs": [
    {
     "name": "stdout",
     "output_type": "stream",
     "text": [
      "3\n"
     ]
    }
   ],
   "source": [
    "# A palavras resevada 'break' é utilizada para finalizar a execução do código quando chega em um determinado elemento do qual foi definido na programação. \n",
    "# Exemplo:\n",
    "\n",
    "sequence = [1, 2, None, 4, None, 5]\n",
    "total = 0\n",
    "for value in sequence:\n",
    "    if value is None: # Quando for encotrado o elemento 'None' na lista 'sequence', ele vai parar o processo.\n",
    "        break\n",
    "    total += value\n",
    "print(total)\n",
    "\n",
    "\n",
    "# Veja que na opção anterior, a soma deu 12 e nesta a soma resultou em 3, isso é devido ao break, em que houve a soma somente ate encontrar o elemento 'None'."
   ]
  }
 ],
 "metadata": {
  "interpreter": {
   "hash": "3bb03df91ec1981933db38e9cd509750fbcc8736096f2f96108c21544a6fd7c7"
  },
  "kernelspec": {
   "display_name": "Python 3.10.2 64-bit",
   "language": "python",
   "name": "python3"
  },
  "language_info": {
   "codemirror_mode": {
    "name": "ipython",
    "version": 3
   },
   "file_extension": ".py",
   "mimetype": "text/x-python",
   "name": "python",
   "nbconvert_exporter": "python",
   "pygments_lexer": "ipython3",
   "version": "3.10.2"
  },
  "orig_nbformat": 4
 },
 "nbformat": 4,
 "nbformat_minor": 2
}
