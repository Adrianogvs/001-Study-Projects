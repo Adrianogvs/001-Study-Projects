{
 "cells": [
  {
   "cell_type": "markdown",
   "metadata": {},
   "source": [
    "## While"
   ]
  },
  {
   "cell_type": "code",
   "execution_count": 2,
   "metadata": {},
   "outputs": [
    {
     "name": "stdout",
     "output_type": "stream",
     "text": [
      "0 1 2 3 4 5 6 7 8 9 "
     ]
    }
   ],
   "source": [
    "# USando o loop while para imprimir os valores de 0 a 9\n",
    "counter = 0\n",
    "while counter < 10:\n",
    "    print(counter, end=' ')\n",
    "    counter += 1"
   ]
  },
  {
   "cell_type": "code",
   "execution_count": 3,
   "metadata": {},
   "outputs": [
    {
     "name": "stdout",
     "output_type": "stream",
     "text": [
      "O valor de x nesta iteração é:  0 x  ainda é maior que 10, somando 1 a x\n",
      "O valor de x nesta iteração é:  1 x  ainda é maior que 10, somando 1 a x\n",
      "O valor de x nesta iteração é:  2 x  ainda é maior que 10, somando 1 a x\n",
      "O valor de x nesta iteração é:  3 x  ainda é maior que 10, somando 1 a x\n",
      "O valor de x nesta iteração é:  4 x  ainda é maior que 10, somando 1 a x\n",
      "O valor de x nesta iteração é:  5 x  ainda é maior que 10, somando 1 a x\n",
      "O valor de x nesta iteração é:  6 x  ainda é maior que 10, somando 1 a x\n",
      "O valor de x nesta iteração é:  7 x  ainda é maior que 10, somando 1 a x\n",
      "O valor de x nesta iteração é:  8 x  ainda é maior que 10, somando 1 a x\n",
      "O valor de x nesta iteração é:  9 x  ainda é maior que 10, somando 1 a x\n",
      "Loop concluído!\n"
     ]
    }
   ],
   "source": [
    "# Também é possivel usar a clausula else para encerrar o loop while\n",
    "x = 0\n",
    "\n",
    "while x < 10:\n",
    "    print('O valor de x nesta iteração é: ', x, end='')\n",
    "    print(' x  ainda é maior que 10, somando 1 a x')\n",
    "    x += 1\n",
    "else:                                                     # Em while posso utilizar o Else\n",
    "    print('Loop concluído!')"
   ]
  },
  {
   "cell_type": "markdown",
   "metadata": {},
   "source": [
    "## Pass, Brack, Continue"
   ]
  },
  {
   "cell_type": "code",
   "execution_count": 4,
   "metadata": {},
   "outputs": [
    {
     "name": "stdout",
     "output_type": "stream",
     "text": [
      "0\n",
      "1\n",
      "2\n",
      "3\n"
     ]
    }
   ],
   "source": [
    "# Utilizando o break e pass\n",
    "cont = 0\n",
    "while cont < 100:\n",
    "    if cont == 4:\n",
    "        break\n",
    "    else:\n",
    "        pass\n",
    "    print(cont)\n",
    "    cont += 1"
   ]
  },
  {
   "cell_type": "code",
   "execution_count": 7,
   "metadata": {},
   "outputs": [
    {
     "name": "stdout",
     "output_type": "stream",
     "text": [
      "P y t o n "
     ]
    }
   ],
   "source": [
    "# Pulando iteração com continue\n",
    "for verificador in 'Python':\n",
    "    if verificador == 'h':\n",
    "        continue\n",
    "    print(verificador, end=' ')"
   ]
  },
  {
   "cell_type": "markdown",
   "metadata": {},
   "source": [
    "## While e For juntos"
   ]
  },
  {
   "cell_type": "code",
   "execution_count": 43,
   "metadata": {},
   "outputs": [
    {
     "name": "stdout",
     "output_type": "stream",
     "text": [
      "2\n",
      "0\n"
     ]
    }
   ],
   "source": [
    "for i in range(2, 30):\n",
    "    j = 2\n",
    "    cont = 0\n",
    "print(j)\n",
    "print(cont)"
   ]
  },
  {
   "cell_type": "code",
   "execution_count": 44,
   "metadata": {},
   "outputs": [
    {
     "name": "stdout",
     "output_type": "stream",
     "text": [
      "1 2 3 "
     ]
    }
   ],
   "source": [
    "# Verificando numeros primos, código dividido em partes\n",
    "j = 0\n",
    "i = 3\n",
    "while j < i:\n",
    "    j += 1\n",
    "    print(j, end=' ')\n"
   ]
  },
  {
   "cell_type": "code",
   "execution_count": 45,
   "metadata": {},
   "outputs": [
    {
     "name": "stdout",
     "output_type": "stream",
     "text": [
      "3\n",
      "3\n",
      "1\n"
     ]
    }
   ],
   "source": [
    "if i % j == 0:\n",
    "    cont = 1\n",
    "else:\n",
    "    j += 1\n",
    "\n",
    "print(i)\n",
    "print(j)\n",
    "print(cont)"
   ]
  },
  {
   "cell_type": "code",
   "execution_count": 46,
   "metadata": {},
   "outputs": [],
   "source": [
    "if cont == 0:\n",
    "    print(str(i) + ' é numero primo.')\n",
    "else:\n",
    "    cont = 0"
   ]
  },
  {
   "cell_type": "code",
   "execution_count": 47,
   "metadata": {},
   "outputs": [
    {
     "name": "stdout",
     "output_type": "stream",
     "text": [
      "2 é numero primo.\n",
      "3 é numero primo.\n",
      "5 é numero primo.\n",
      "7 é numero primo.\n",
      "11 é numero primo.\n",
      "13 é numero primo.\n",
      "17 é numero primo.\n",
      "19 é numero primo.\n",
      "23 é numero primo.\n",
      "29 é numero primo.\n"
     ]
    }
   ],
   "source": [
    "# Veiricando numeros primos, código inteiro\n",
    "\n",
    "for i in range(2, 30):\n",
    "    j = 2\n",
    "    cont = 0\n",
    "    while j < i:\n",
    "        if i % j == 0:\n",
    "            cont = 1\n",
    "            j += 1\n",
    "        else:\n",
    "            j += 1\n",
    "    if cont == 0:\n",
    "        print(str(i) + ' é numero primo.')\n",
    "    else:\n",
    "        cont = 0\n"
   ]
  }
 ],
 "metadata": {
  "interpreter": {
   "hash": "3bb03df91ec1981933db38e9cd509750fbcc8736096f2f96108c21544a6fd7c7"
  },
  "kernelspec": {
   "display_name": "Python 3.10.2 64-bit",
   "language": "python",
   "name": "python3"
  },
  "language_info": {
   "codemirror_mode": {
    "name": "ipython",
    "version": 3
   },
   "file_extension": ".py",
   "mimetype": "text/x-python",
   "name": "python",
   "nbconvert_exporter": "python",
   "pygments_lexer": "ipython3",
   "version": "3.10.2"
  },
  "orig_nbformat": 4
 },
 "nbformat": 4,
 "nbformat_minor": 2
}
