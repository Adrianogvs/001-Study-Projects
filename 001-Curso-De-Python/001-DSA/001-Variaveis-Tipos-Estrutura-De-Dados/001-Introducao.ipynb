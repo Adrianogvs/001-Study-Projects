{
 "cells": [
  {
   "cell_type": "markdown",
   "id": "488991f9",
   "metadata": {},
   "source": [
    "# Variáveis, Tipos e Estrutiras de Dados"
   ]
  },
  {
   "cell_type": "markdown",
   "id": "2af5ecb7",
   "metadata": {},
   "source": [
    "## O que será estudado neste módulo?"
   ]
  },
  {
   "cell_type": "markdown",
   "id": "677a660c",
   "metadata": {},
   "source": [
    "* Python Fundamentos\n",
    "* Números e Operações Matem´ticas\n",
    "* Variáveis e Operadores\n",
    "* Strings\n",
    "* Estrutira de dados\n",
    " - Listas\n",
    " - Dicionários\n",
    " - Tuplas"
   ]
  },
  {
   "cell_type": "code",
   "execution_count": null,
   "id": "911509f6",
   "metadata": {},
   "outputs": [],
   "source": []
  }
 ],
 "metadata": {
  "kernelspec": {
   "display_name": "Python 3.10.2 64-bit",
   "language": "python",
   "name": "python3102jvsc74a57bd03bb03df91ec1981933db38e9cd509750fbcc8736096f2f96108c21544a6fd7c7"
  },
  "language_info": {
   "codemirror_mode": {
    "name": "ipython",
    "version": 3
   },
   "file_extension": ".py",
   "mimetype": "text/x-python",
   "name": "python",
   "nbconvert_exporter": "python",
   "pygments_lexer": "ipython3",
   "version": "3.10.2"
  }
 },
 "nbformat": 4,
 "nbformat_minor": 5
}
