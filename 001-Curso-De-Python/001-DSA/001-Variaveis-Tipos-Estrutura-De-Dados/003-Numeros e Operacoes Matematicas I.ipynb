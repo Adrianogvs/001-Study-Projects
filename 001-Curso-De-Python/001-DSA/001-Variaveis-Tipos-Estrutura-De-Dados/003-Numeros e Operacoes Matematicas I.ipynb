{
 "cells": [
  {
   "cell_type": "markdown",
   "id": "e8d73e40",
   "metadata": {},
   "source": [
    "# Números e Operações Matemáticas\n",
    "\n",
    "\n",
    "## Topicos desta atividade\n",
    "<br />\n",
    "<br />\n",
    "<body>\n",
    "    <font size=\"3.5\">\n",
    "        1) Tipos de números em Python<p><p>\n",
    "        2) Funções e operadores com números<p><p>\n",
    "        3) Aritimética<p><p>\n",
    "        4) Operadores<p><p>\n",
    "    </font> <br />\n",
    "</body>\n"
   ]
  },
  {
   "cell_type": "markdown",
   "id": "8dd4d369",
   "metadata": {},
   "source": [
    "## Python possui 2 tipos e números principais:\n",
    "<br />\n",
    "\n",
    "<html>\n",
    "    <head>\n",
    "        <title></title>\n",
    "    <menta >\n",
    "    </head>\n",
    "\n",
    "<body>\n",
    "    <font size=\"3.5\">\n",
    "        * int -> Representa números inteiros, positivos ou negativos. Ex: -7 e 7<p><p>\n",
    "        * float -> Representa números fracionários, positivos ou negativos. Ex: -1.1 e 7.1<p><p>\n",
    "        <br />\n",
    "        Recomenda-se utilizar a função type(), para saber qual é o tipo de um número.<p>\n",
    "        Podemos utilizar as funções int(0 e float() para converter para números inteiros ou flutiante.  \n",
    "    </font> <br />\n",
    "</body>\n",
    "</html>\n"
   ]
  },
  {
   "cell_type": "markdown",
   "id": "de818e4f",
   "metadata": {},
   "source": [
    "## Operações com Números\n",
    "\n",
    "Operador | Significado | Exemplo\n",
    "-----|-----|------\n",
    "|+ | Soma | 2 + 2 = 4|\n",
    "|- | - Subtração | 3 - 2 = 1|\n",
    "|* | Multiplicação | 2 * 3 = 6|\n",
    "|/ | Divisão | 10 / 2 = 5|\n",
    "|% | Módulo | 5 % 2 = 1|\n",
    "|** | Potência | 4 ** 2 = 16|\n",
    "|int() | Converte para inteiro | int(3.2) = 3|\n",
    "|float() | Converte para float | float(2) = 2.0|\n"
   ]
  },
  {
   "cell_type": "markdown",
   "id": "0800c634",
   "metadata": {},
   "source": [
    "## Operadores Relacionais\n",
    "\n",
    "Operador | Significado\n",
    "---|---\n",
    "|== | Igualdade/ equivalêncua\n",
    "|!= | Diferente/ Inequivalência\n",
    "|>  | Maior que\n",
    "|< | Menor que\n",
    "|>= | Maior que ou igual a \n",
    "|<= | Menor que ou igual a \n"
   ]
  },
  {
   "cell_type": "markdown",
   "id": "864374d7",
   "metadata": {},
   "source": []
  }
 ],
 "metadata": {
  "kernelspec": {
   "display_name": "Python 3.10.2 64-bit",
   "language": "python",
   "name": "python3102jvsc74a57bd03bb03df91ec1981933db38e9cd509750fbcc8736096f2f96108c21544a6fd7c7"
  },
  "language_info": {
   "codemirror_mode": {
    "name": "ipython",
    "version": 3
   },
   "file_extension": ".py",
   "mimetype": "text/x-python",
   "name": "python",
   "nbconvert_exporter": "python",
   "pygments_lexer": "ipython3",
   "version": "3.10.2"
  }
 },
 "nbformat": 4,
 "nbformat_minor": 5
}
