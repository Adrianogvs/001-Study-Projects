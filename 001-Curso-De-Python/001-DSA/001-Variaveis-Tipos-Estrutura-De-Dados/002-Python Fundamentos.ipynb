{
 "cells": [
  {
   "cell_type": "markdown",
   "id": "0341b942",
   "metadata": {},
   "source": [
    "# Python Fundamentos"
   ]
  },
  {
   "cell_type": "markdown",
   "id": "03e27517",
   "metadata": {},
   "source": [
    "## Exsitem 3 modos de executar programas em Python:\n",
    "\n",
    "* Modo Shell\n",
    "* Modo Script (Arquivos com extensão.py)\n",
    "* Modo interativo (Jupyter Notebook)"
   ]
  },
  {
   "cell_type": "markdown",
   "id": "2533d6d3",
   "metadata": {},
   "source": [
    "\n",
    "## Identação é muito importante na linguagem Python\n",
    "\n",
    "#### Recomenda-se utilizar 1 tab ou 4 espaços, exemplo:\n",
    "\n",
    "<div align=\"left\">\n",
    "<br/>\n",
    "print(nivel 1) #Primeiro nível hierárquico\n",
    "\n",
    "if(True):<p>\n",
    "&ensp;&ensp;&ensp;&ensp;print(nível 2) #Segundo nível hierárquico<p>\n",
    "</dir>"
   ]
  },
  {
   "cell_type": "markdown",
   "id": "15d7d63e",
   "metadata": {},
   "source": [
    "## Comentários em Python\n",
    "\n",
    "#### Começam com o caracter '#' ou 3 aspas duplas \"\"\"...\"\"\"\n",
    "\n",
    "<br/>\n",
    "\n",
    "<dir>\n",
    "    # Isso é um comentário em um única linha.\n",
    "\n",
    "<br/>\n",
    "<br/>\n",
    "    \"\"\"<p>\n",
    "    Isso é um comentário\n",
    "    em mais de uma linha.<p>\n",
    "    \"\"\"\n",
    "\n",
    "</dir>"
   ]
  }
 ],
 "metadata": {
  "kernelspec": {
   "display_name": "Python 3.10.2 64-bit",
   "language": "python",
   "name": "python3102jvsc74a57bd03bb03df91ec1981933db38e9cd509750fbcc8736096f2f96108c21544a6fd7c7"
  },
  "language_info": {
   "codemirror_mode": {
    "name": "ipython",
    "version": 3
   },
   "file_extension": ".py",
   "mimetype": "text/x-python",
   "name": "python",
   "nbconvert_exporter": "python",
   "pygments_lexer": "ipython3",
   "version": "3.10.2"
  }
 },
 "nbformat": 4,
 "nbformat_minor": 5
}
